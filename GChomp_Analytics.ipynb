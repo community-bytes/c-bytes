{
  "nbformat": 4,
  "nbformat_minor": 0,
  "metadata": {
    "colab": {
      "provenance": [],
      "gpuType": "T4",
      "authorship_tag": "ABX9TyO7n+BrpMebDv+OCKCagtKt",
      "include_colab_link": true
    },
    "kernelspec": {
      "name": "python3",
      "display_name": "Python 3"
    },
    "language_info": {
      "name": "python"
    },
    "accelerator": "GPU"
  },
  "cells": [
    {
      "cell_type": "markdown",
      "metadata": {
        "id": "view-in-github",
        "colab_type": "text"
      },
      "source": [
        "<a href=\"https://colab.research.google.com/github/community-bytes/c-bytes/blob/main/GChomp_Analytics.ipynb\" target=\"_parent\"><img src=\"https://colab.research.google.com/assets/colab-badge.svg\" alt=\"Open In Colab\"/></a>"
      ]
    },
    {
      "cell_type": "markdown",
      "source": [
        "# GCHOMP Data Processor\n",
        "This notebook is part of the G-Chomp project for the [Chicago Innovate Hackathon 2023](https://www.chicagoinnovate.tech/hackathon).\n",
        "\n",
        "For a general description of the project, visit the project [github repo](https://github.com/community-bytes/c-bytes).\n",
        "\n",
        "This stage of the project takes a dataset of posts from the McNeel Forum as csv input, parses the content, and does some data analytics on the dataset.\n",
        "\n",
        "Most of this notebook is derivative of examples shared during [Becoming AI Power-Users: A Hands-on Workshop on Machine Learning and Generative AI](https://www.chicagoinnovate.tech/courses-1/becoming-ai-power-users%3A-a-hands-on-workshop-on-machine-learning-and-generative-ai) by Seyedomid Sajedi of Thornton Thomasetti during Chicago Innovate 2023."
      ],
      "metadata": {
        "id": "6WpS4WyhTm3q"
      }
    },
    {
      "cell_type": "markdown",
      "source": [
        "## Step 1 Dependencies\n",
        "install dependencies for getting the embeddings and pre-processing text from the CSV"
      ],
      "metadata": {
        "id": "8_L_aM7WkkTB"
      }
    },
    {
      "cell_type": "code",
      "source": [
        "%%capture\n",
        "!pip install tiktoken\n",
        "!pip install bertopic datasets accelerate bitsandbytes xformers adjustText\n",
        "!pip install feedparser"
      ],
      "metadata": {
        "id": "4d3qpua-kjcW"
      },
      "execution_count": 1,
      "outputs": []
    },
    {
      "cell_type": "code",
      "source": [
        "# https://spacy.io/\n",
        "import spacy\n",
        "# !pip install --upgrade spacy # might be needed if the default spacy in colab is not working\n",
        "import requests\n",
        "from io import BytesIO\n",
        "#from PyPDF2 import PdfReader\n",
        "from tqdm import tqdm\n",
        "import tiktoken\n",
        "import pickle\n",
        "\n",
        "from bertopic import BERTopic\n",
        "#from sklearn.datasets import fetch_20newsgroups\n",
        "from sentence_transformers import SentenceTransformer\n",
        "from umap import UMAP\n",
        "import seaborn as sns\n",
        "import matplotlib.pyplot as plt\n",
        "import numpy as np\n",
        "from sklearn.metrics.pairwise import cosine_similarity\n",
        "\n",
        "import pandas as pd"
      ],
      "metadata": {
        "id": "p-yYUkQSl-Oj"
      },
      "execution_count": 2,
      "outputs": []
    },
    {
      "cell_type": "markdown",
      "source": [
        "## Step 2: Setup Processor Models\n",
        "Executed prior to parsing csv so to make it easier to replace the dataset and rerun the notebook"
      ],
      "metadata": {
        "id": "xR6AMI9FaOYR"
      }
    },
    {
      "cell_type": "code",
      "source": [
        "# Setup model to remove 'stop' words - words of high frequency - for topical analysis\n",
        "nlp_model = spacy.load(\"en_core_web_sm\")\n",
        "# Get the list of stop words\n",
        "stop_words = list(nlp_model.Defaults.stop_words)\n",
        "# print(len(stop_words))\n",
        "# print(stop_words)"
      ],
      "metadata": {
        "id": "ZNURE9kMmceu"
      },
      "execution_count": 4,
      "outputs": []
    },
    {
      "cell_type": "code",
      "source": [
        "# Append Rhino stop words\n",
        "stop_words.extend([\"Rhino\", \"rhino\", \"grasshopper\"]);"
      ],
      "metadata": {
        "id": "CBvJMVdM1nww"
      },
      "execution_count": 5,
      "outputs": []
    },
    {
      "cell_type": "markdown",
      "source": [
        "Spacy Tokenizer that checks for stop words in the sample text"
      ],
      "metadata": {
        "id": "9JU3AFk5mtkC"
      }
    },
    {
      "cell_type": "code",
      "source": [
        "def spacy_tokenizer(text, nlp):\n",
        "    doc = nlp(text)\n",
        "    tokens = []\n",
        "    for token in doc:\n",
        "        # Check if the token is not punctuation and not a stop word\n",
        "        if not (token.is_punct or token.is_stop):\n",
        "            tokens.append(token.lemma_.lower())\n",
        "    return tokens"
      ],
      "metadata": {
        "id": "2lROENcemrTb"
      },
      "execution_count": 6,
      "outputs": []
    },
    {
      "cell_type": "markdown",
      "source": [
        "## Step 3: Parsing the dataset\n",
        "- Load the dataset from our [github repo](https://github.com/community-bytes/c-bytes/tree/main/helpers/csv) (make sure to use the link to the raw file)\n",
        "- or loaded into the notebook (if loaded into the notebook, use the name \"output.csv\" and uncomment the code below)"
      ],
      "metadata": {
        "id": "v6u3xDBWZyUW"
      }
    },
    {
      "cell_type": "code",
      "source": [
        "# Retrieve dataset from github repo\n",
        "import requests\n",
        "from io import StringIO\n",
        "\n",
        "# Define the GitHub repository URL and the path to the CSV file\n",
        "github_repo_url = \"https://raw.githubusercontent.com/community-bytes/c-bytes/\"\n",
        "csv_file_path = \"main/helpers/csv/output.csv\"\n",
        "\n",
        "# Combine the URL and file path to get the raw file URL\n",
        "raw_csv_url = github_repo_url + csv_file_path\n",
        "\n",
        "# Send a GET request to the raw CSV file URL\n",
        "response = requests.get(raw_csv_url)\n",
        "\n",
        "# Check if the request was successful (status code 200)\n",
        "if response.status_code == 200:\n",
        "    # Save the content to a local CSV file\n",
        "    df = pd.read_csv(StringIO(response.text))\n",
        "    print(\"CSV file loaded into a DataFrame.\")\n",
        "    # check contents of csv\n",
        "    # text_values = df['text']\n",
        "    # print(text_values)\n",
        "else:\n",
        "    print(\"Failed to retrieve CSV file. Status code:\", response.status_code)\n"
      ],
      "metadata": {
        "id": "8RrjgS3RpB5p"
      },
      "execution_count": null,
      "outputs": []
    },
    {
      "cell_type": "code",
      "source": [
        "# Uncomment this if using local csv file\n",
        "# df = pd.read_csv('output.csv')"
      ],
      "metadata": {
        "id": "40C9gzuGhPwA"
      },
      "execution_count": 55,
      "outputs": []
    },
    {
      "cell_type": "code",
      "source": [
        "# Check contents of CSV\n",
        "text_values = df['text']\n",
        "print(text_values)"
      ],
      "metadata": {
        "colab": {
          "base_uri": "https://localhost:8080/"
        },
        "id": "9XJN6xBTjWNq",
        "outputId": "97ad1470-8316-4d88-d653-ae9fc4043922"
      },
      "execution_count": 8,
      "outputs": [
        {
          "output_type": "stream",
          "name": "stdout",
          "text": [
            "0      <p>Hello <a class=\"mention\" href=\"/u/alex_8\">@...\n",
            "1      <p>Hi Garry - that layout appears to be corrup...\n",
            "2      <p>just to share the script with everyone:<br>...\n",
            "3      <p><div class=\"lightbox-wrapper\"><a class=\"lig...\n",
            "4      <p>Yes it is normal. For a one-shot osnap like...\n",
            "                             ...                        \n",
            "123    <p>Hi <a class=\"mention\" href=\"/u/siemen\">@sie...\n",
            "124    <aside class=\"quote no-group\" data-post=\"3\" da...\n",
            "125    <p>You can certainly code it up in Grasshopper...\n",
            "126    <p>I solved the problem, I cant do DataTree&gt...\n",
            "127    <p><a href=\"https://mcneel.myjetbrains.com/you...\n",
            "Name: text, Length: 128, dtype: object\n"
          ]
        }
      ]
    },
    {
      "cell_type": "code",
      "source": [
        "# Step 3: Clean the html and newLine characters from the text\n",
        "df['text'] = df['text'].str.replace(r'<[^<>]*>', '', regex=True)\n",
        "df['text'] = df['text'].str.replace(r'\\n', ' ', regex=True)"
      ],
      "metadata": {
        "id": "g7yugZNchaPM"
      },
      "execution_count": 9,
      "outputs": []
    },
    {
      "cell_type": "code",
      "source": [
        "# Remove @ referenced names\n",
        "# df['text'] = df['text'].str.replace(r'@\\w+\\s*', '', regex=True)"
      ],
      "metadata": {
        "id": "lw0tt2Isk3bw"
      },
      "execution_count": 10,
      "outputs": []
    },
    {
      "cell_type": "code",
      "source": [
        "# text_values = df['text']\n",
        "# print(text_values)"
      ],
      "metadata": {
        "id": "eApA1VdGlD5z"
      },
      "execution_count": 11,
      "outputs": []
    },
    {
      "cell_type": "markdown",
      "source": [
        "### Remove stop words from tokenization"
      ],
      "metadata": {
        "id": "sLCG1GwKmdn2"
      }
    },
    {
      "cell_type": "code",
      "source": [
        "# tokenize dataset with separate words in an array\n",
        "tokenized_dataset= []\n",
        "text_dataset =[]\n",
        "for line in df['text']:\n",
        "  text = line\n",
        "  text_dataset.append(line)\n",
        "  tokenized_page = spacy_tokenizer(text,nlp_model)\n",
        "  tokenized_dataset.append(tokenized_page)"
      ],
      "metadata": {
        "id": "j5v0eSppnacw"
      },
      "execution_count": 12,
      "outputs": []
    },
    {
      "cell_type": "code",
      "source": [
        "# tokenize dataset with words from a single post rejoined into a string\n",
        "tokenized_dataset= []\n",
        "text_dataset =[]\n",
        "for line in df['text']:\n",
        "  text = line\n",
        "  text_dataset.append(line)\n",
        "  tokenized_page = spacy_tokenizer(text,nlp_model)\n",
        "  separator = \" \"  # Separator between strings, e.g., a space\n",
        "  tokenized_page = separator.join(tokenized_page)\n",
        "  tokenized_dataset.append(tokenized_page)"
      ],
      "metadata": {
        "id": "lNM__aG50acj"
      },
      "execution_count": 13,
      "outputs": []
    },
    {
      "cell_type": "code",
      "source": [
        "print(tokenized_dataset)"
      ],
      "metadata": {
        "colab": {
          "base_uri": "https://localhost:8080/"
        },
        "id": "_zOlCZa3n2Zj",
        "outputId": "7db896f0-1776-4290-b5d2-7a75f0da7786"
      },
      "execution_count": 14,
      "outputs": [
        {
          "output_type": "stream",
          "name": "stdout",
          "text": [
            "['hello @alex_8 look clear explanation   screen shot 2019 02 24 11.15.09.png1260×655 95.3 kb   note need component lunchbox work dot indicate straight planar basis locate topo_v1.gh 34.8 kb', 'hi garry layout appear corrupt able thing look right   selall ctrl page 3 copytoclipboard ctrl c new layout paste ctrl v   file heap developer look https://mcneel.myjetbrains.com/youtrack/issue/rh-51111 thanks -pascal', 'share script change input method getline feedback group output use risk    noecho -runscript distbetween sub distbetween    dim arrpt0 arrpt1 dbltolerance dbldistance strline arrmidpt   strdot strgroup strlinearr   create line arrowhead strlinearr = rhino getline               isnull(strlinearr exit sub              isnull(strlinearr(0 exit sub              isnull strlinearr(1 exit sub              strline = rhino addline strlinearr(0 strlinearr(1              isnull(strline exit sub                                        exit distance small add line dbldistance = rhino distance(strlinearr(0 strlinearr(1 dbltolerance = rhino unitabsolutetolerance dbldistance lt dbltolerance exit sub              rhino curvearrows(strline 3   add annotation dot line mid point arrmidpt = rhino pointdivide(rhino pointadd(strlinearr(0 strlinearr(1 2.0              strdot = rhino addtextdot(round(dbldistance 3 arrmidpt              rhino objectcolor(strdot vbwhite                strgroup = rhino addgroup              rhino addobjecttogroup strdot strgroup             rhino addobjecttogroup strline strgroup              end sub', '  kangaroo_tensile_structure_tutorials_re1358×736 130 kb   kangaroo_tensile_structure_tutorials_re.gh 17.7 kb', 'yes normal shot osnap like alongline turn permanently select drawing command want use prompt point centre select alongline ask command line start end tracking line click ask start new line type distance want away start tracking line rhino place start point alongline osnap automatically disable', 'yes platform module            stackoverflow.com                          tell python implementation       python cpython       ask            stuart berg       10:22pm 05 feb 13 utc                          ', 'update close turn bee relate parallel computing set couple intersection component turn solve issue', 'hello nick.n.roll solution check hope help greeting bumaye shell_help_re.gh 40.0 kb', 'polysurface mesh cube 1x1x1 mm offset 1 mm   2019 02 25 17_18_46 window.png575×535 13.6 kb   mesh offset face vertex brep polysurface off offset face fix edge mesh offset move vertex average local normal x offset value bit well result increase face count mesh big flat face new vertex inside move offset correctly corner ugly', 'small script 2 c ouputte font 424 output brep brep change mesh outside c surely difficult inside placement text sure plugin type work interesting remake script new rhino 6 object   image.png1123×711 151 kb    text_curve_rhino6.gh 10.4 kb record https://developer.rhino3d.com/api/rhinocommon/html/t_rhino_docobjects_font.htm https://developer.rhino3d.com/api/rhinocommon/html/t_rhino_geometry_textentity.htm      if(content = null amp;&amp content = string      amp;&amp face = null amp;&amp face = string             if(size = = 0          size = 5        rhino docobjects font fontstyle fontstyle = rhino docobjects font fontstyle upright        italic fontstyle = rhino docobjects font fontstyle italic        rhino docobjects font fontweight fontweight = rhino docobjects font fontweight normal        bold fontweight = rhino docobjects font fontweight bold         bool underline = false        bool strikethrough = false         rhino docobjects font font = new rhino docobjects font(face fontweight fontstyle underlined strikethrough        textentity text_entity = new textentity                     plane = plane worldxy            plaintext = content            justification = textjustification middlecenter            font = font                   rhino docobjects dimensionstyle dimstyle = new rhino docobjects dimensionstyle        dimstyle textheight = size        double smallcapsscale = 1        double space = 0        = text_entity createsurfaces(dimstyle smallcapsscale spacing                         print(\"some content require                          grasshopper3d.com              text font c   code guilio piacentino component   textentity text = new textentity textjustification textj = new textjustification text fontindex =                          ', 'text file input work json need store json object text file extension .txt sure file import text grasshopper try parse string shapediverjsonparse component problem persist post detail error get datum try json file right click gt save link test work fine definition', 'hi @ivelin.peychev      ivelin.peychev   well example(s    decent sample developer sample repository github      ivelin.peychev   screenshot result window show custom applicationname mainicon    screen sample mention   image.png958×797 173 kb       ivelin.peychev   icon embed encode    embed      ivelin.peychev   size    https://docs.microsoft.com/en-us/windows/desktop/uxguide/vis-icon      ivelin.peychev   nosplash overridden    sorry know mean      ivelin.peychev   color change method api    change rhino application color rhinocommon      ivelin.peychev   screenshot registry key scheme myskin sub key unclear     image.png1256×202 11.5 kb       ivelin.peychev   skin load edit shortcut    know      ivelin.peychev   python example nice    skin dll need c++ c build hope help dale', 'thank reply @dsw solve problem   cmfcpropertygridctrl::onpropertychange method instead validateitemdata understand validateitemdata call time rhino environment', 'hi @peterberg start update 2017 radeon driver write problem persist hth jakob', 'diagram explain try tho negative example provide minus original area 1500 remain offset strange shape know way calculate proper offset   2019 02 26%20(2)1568×637 388 kb    11111154×865 138 kb   26 feb 2019 area 4.gh 29.8 kb', 'test swap   want number include domain   image.png896×400 35.6 kb', 'possible flowalongsrf set surface carefully carefully example create flat ellipsoid surface wiht procedure railrevolve   case flat surface revolve line ellipoid revolve ellipse quadrant   rail case ellipse   way structure surface correspond seam use flowalongsrf base surface flat surface target ellipsoid surface   sure set   autoadjust rhino try guess surface correspond wrong 99 time click area base target surface correspond flowpts_ellipsoid.3 dm 406.7 kb', 'hi @pagarcia sample draw sphere surface revoluation like rhino default shaded display mode draw output sphere command cmdsampledrawbrep.cpp dale', 'need flip direction curve use sweep 1 2   sss2.jpg1207×535 39.8 kb    sssss jpg634×520 8.81 kb', 'generally greet post sign track useful ahead join curve check marktangentdiscontinuities.py 916 bytes @rhino_bulgaria add grouping download use python script use runpythonscript   macro -runpythonscript path py file inside double quote -pascal', 'try cg.gh 8.6 kb', 'hi bobi start test curve time right thing setbackfillet.py 5.4 kb @rhino_bulgaria update handle multiple curve use python script use runpythonscript   macro -runpythonscript path py file inside double quote -pascal', 'thank explain install public sr13 release candidate fix rhino options gt updates statistics gt update frequency change setting notify new src build', 'use file thread know problem new sweep 2 grasshopper.3 dm 108.0 kb', 'hi @ivelin.peychev sorry able rhino inside work rhino 6 dale', '     balderrama.josue.mac   possible use anchor point rotate depend distance base geometry anchor point    possible   method http://dreaming983.rssing.com/chan-47415175/all_p2.html#item21', 'omg forget dog joke look great', 'james sorry forgot clean null datum ignore time iteration null datadouble loop fixed.gh 15.4 kb', 'say right need polyline polyline use area component', 'hi current owner license(s remove account add team current owner click licenses account click license finally click remove cloud zoo team admin path license page choose team click add license add license remove let know stick process', 'try wireframe component', 'try use plane coordinatescomponent   canvas%20at%2019%3b45%3b331345×743 120 kb   relativecoordinates_re.gh 15.0 kb', 'like meshsplit_join_v1.gh 49.7 kb', 'think   get object name list remove duplicate use list object join   know get idea manage', '                  github              mcneel rhino developer sample   rhino grasshopper developer sample code contribute mcneel rhino developer sample development create account github                            gives            github.com            mcneel rhino developer sample blob/53f7108408fd4905e48bda566d15bd87458c7369 rhinocommon snippet from_rhinocommon py ex_objectdisplaymode.py#l31           setcommandprompt(\"select display mode          str_mode =          m mode              s = m.englishname.replace .replace(\"-              str_modes.append(s          addoptionlist(\"displaymode str_modes 0          get()==rhino input getresult option              mode = modes[go option().currentlistoptionindex      mode return rhino command result cancel      attr setdisplaymodeoverride(mode viewportid scriptcontext.doc objects modifyattributes(objref attr false scriptcontext.doc view redraw      name__==\"__main objectdisplaymode                                 ivelin.peychev   self objecttable come    mean instance method instance example case instance objecttable scriptcontext.doc object self parameter convention python world instance class', 'solve isolate list   import rhinoscriptsyntax rs import rhino geometry rg import scriptcontext sc    surface = rs getobjects(\"sel all\",rs.filter.surface name = srf_id surface      srf = rs.coercerhinoobject(srf_id           names.append(srf attribute normalized_name = list(dict.fromkeys(names set_names = list(set(names    print normalized_names print len(normalized_names print set_names print len(set_name range(len(surfaces      nm normalized_name          ps =          srf_id surface                           srf = rs.coercerhinoobject(srf_id              try                  tmp = srf attribute                  tmp = = nm                      ps.append(srf_ids                               pass          print ps          len(ps gt 1              ps_id = rs joinsurfaces(ps true              ps_obj = rs.coercerhinoobject(ps_id              rs objectname(ps_id nm', '  canvas 11;33;51.png1462×274 92.3 kb   brep breps_re.gh 19.8 kb', 'hi roi gh component update property find attach def space auto naming.gh 7.5 kb   autonaming%20spaces1347×742 124 kb', 'end solve include sdv.concat.min.js plugin footer load parametric viewer page load snippet https://viewer.shapediver.com/v2/2.5.0/doc/usage.html hope help run issue', 'subdirectory directory   c:\\\\programdata\\\\mcneel\\\\mcneelupdate\\\\downloadcache', 'glad hear work', '  principal.png714×627 34 kb   unnamed_re1.gh 9.0 kb', 'hi look like problem cause fact large radius fillet toaster model adjacent want apply new small radius fillet easy workaround situation     use extract surface extract 10 surface share edge want apply new radius fillet copy = option active select extraction choose isolate object temporarily surface hide rest one separate layer whichever prefer    lock 8 small surface moment lock object command copy large surface large radius fillet vertical surface paste piece join hide copy use shrink trimmed surface command shrink large surface visible boundary    use untrim tool click vertical hole middle large vertical surface fill    merge horizontal edge surface meet merge edge tool    combine surface merge surface tool sure set smooth = option    unlock 8 locked surface join    select merged surface click split icon pick 8 joined surface delete unnecessary surface vertical channel locate join 10 surface single polysurface    apply fillet 0,25 look good model    extract large merged surface delete new fillet 8 surface single polysurface    use unisolate rest object unhide hidden copy large vertical surface large radius fillet hide step 2 use split split new radius fillet    join usual    drink nice coffee tea     toaster 13 bg.3 dm 1.8 mb   toaster.png775×758 96.3 kb', 'need screen client client world', 'thank mohamad happy new grasshopper amazing opportunity study definition', '     siemen   easy turn grasshopper preview temporary    hi @sieman sure guess require gh document   use turn preview my_doc expiresolution my_doc expirepreview(true   turn my_doc newsolution(true   c.', 'use textdot secondarytext property like import rhinoscriptsyntax rs textdot = rs getobject(\"select textdot rs.filter.textdot textdot = rs.coercegeometry(textdot print textdot secondarytext   rickson.py 158 bytes', 'look picture flatten input c. look gh primer learn das structure don‘t link atm google', '     jess   maybe script display conduit similar dir command    totally wrong dream comfy way curve end case script aha find  ', 'hi late c script use external value main runscript method work iteration code explain well small example point vector value double    nanogame.gh 9.3 kb iteration restart runscript point move vector value keep iteration code private void runscript(bool bool reset ref object ref object b         if(reset reset value user toggle reset        position = new rhino geometry point3d(0 0 0        direction = new rhino geometry vector3d(0 1 0        inertia = new rhino geometry vector3d(0 0 0        rotation = 0           detect modifier key      string modifier = system window form control modifierkeys tostring      string case1 = shift      string case2 = control      string case3 = alt      string case4 = shift control      string case5 = shift alt      string case6 = shift control alt      bool frictionactive = system window form control iskeylocked(system window form keys numlock       if(modifi = = case1 || modifier = = case4 || modifier = = case5 || modifier = = case6        accellerate           if(modifier = = case2 || modifier = = case4        turn(\"left           if(modifier = = case3 || modifier = = case5        turn(\"right            apply_forces       if(frictionactive        apply_friction            = position      b = direction      if(on)this component expiresolution(true runscript method restart        lt;custom additional code&gt     object change runscript restart    public rhino geometry point3d position    public rhino geometry vector3d direction    public rhino geometry vector3d inertia    public double rotation //this rotate momentum     public void accellerate add direction vector inertia vector simulate thrust      double val = 0.01      inertia + = direction val      print(\"acc       public void turn(string dir      double val = 0.003      if(dir = = leave        rotation + = val        print(\"left           if(dir = = right        rotation -= val        print(\"right            public void apply_force      direction rotate(rotation rhino geometry vector3d zaxis      position transform(rhino geometry transform translation(inertia       public void apply_friction      inertia = 0.97      rotation = 0.95      hope help', 'thank reply mr. pryor', 'well   image.png824×684 57.2 kb   number pixel allow drag accidently work want', '  awdawd.png928×607 65.1 kb', 'hi @jeremy5 sometthe like import rhino import rhinoscriptsyntax rs   class getmyobjects(rhino input custom getobject           def init__(self object_ids          self.object_id = object_id               getobject customgeometryfilter override      def customgeometryfilter(self rh_object geometry component_index          rh_object rh_object id self.object_id              return true          return false        def test           object_id = rs getobjects(\"select object      object_ids return           = getmyobjects(object_ids      setcommandprompt(\"select specific object      enablepreselect = false      getmultiple(1 0      commandresult = rhino command result success          return               range(0 objectcount          rh_obj = object(i).object          rh_obj print rh_obj id   test   dale', 'pretty sure add t trigger input listener zui', 'understand use script kangaroo want create create solid pipe solid pipe.gh 7.0 kb   sp jpg1554×529 52.2 kb', 'close evaluate surface require uv point xyz point need surface close point gap orient box plane object plane input box build directly frame component need orient component note want orient lot object set multiple plane look group component   image1875×533 89.9 kb   surface normal_help_mg-edit.gh 23.5 kb', 'dear mathieu limit area ldist x ldist x 0.1 ldist input meshtoshell component good clemens', 'hey @farah hope look   screen shot 2019 03 07 20.45.01.png772×689 16.4 kb   sure gaussian curvature correctly calculate demonstrate friendly neighbourhood vertex certain vertex construct necessary vector compute vector angle fourth import rhino geometry rg import grasshopper gh import math import clr import os   path plankton library need change setup plankton_dll_path = os.path.join(gh folder defaultassemblyfolder plankton.dll plankton_gha_path = os.path.join(gh folder defaultassemblyfolder plankton.gha    clr addreferencetofileandpath(plankton_dll_path halfedge mesh data structure clr addreferencetofileandpath(plankton_gha_path gh component helper method   import plankton import planktongh   clr importextensions(planktongh rhinosupport extension method e.g. rg mesh toplantonmesh    convert input mesh plankton planktonmesh object plt_mesh = x. toplanktonmesh   gaussian curvature vertex gaussian_curvature =   k range(plt_mesh vertex count      current vertex point      curr_vtx = plt_mesh vertices[k].topoint3d       index vertex neighbour      nb_indice = plt_mesh vertex getvertexneighbours(k      vertex neighbour point      neighbour = plt_mesh vertices[i nb_indices      valence = plt_mesh vertex getvalence(k      t = 2 math.pi       contruct vector current vector neighbour      vec = v. topoint3d curr_vtx v neighbour      range(len(vec          calculate angle radian vector pair          angle = rg vector3d vectorangle(vecs[i vecs[(i + 1 valence          subtract rangle radian vector pair t          t -= angle      save t gaussian curvature current vertex      gaussian_curvatures.append(t   output = gaussian_curvature   get previously wrong let explain + 1 valence work let assume current vertex 3 neighbour mean valence 3 furthermore need calculate 3 vector current vertex 3 neighbouring vertex store list 3 vector need calculate 4 vector angle vector list vector angle vector loop vector list vector index 2 corresponding vector index 0 list simply calculate index formula 2 + 1 3 equal 0 get desire vector iteration formula produce right index 0 + 1 3 = 1 1 + 1 3 = 2 etc basically simply calculate + 1 work vector 2 + 1 equal 3 vector index 3 list gaussian_curvature_v1.gh 7.5 kb', 'hi specific file general question general answer reason object type support dxf file format export scheme object bad way specific case example answer thread', 'guy bounce https://developer.rhino3d.com/api/rhinocommon/html/m_rhino_geometry_intersect_intersection_rayshoot.htm', 'find issue geometry function code try like tolerance document document actually exist function bail recently find curve offset function fix issue problem function call repeat problem', 'sove b brep start start point curve end end point curve tol tolerance start_close_check = closest_point(b start tol)[0 end_close_check = closest_point(b end tol)[0 start_point_check = point_check(b start tol true end_point_check = point_check(b end tol true               start_close_check = = true end_point_check = = false end_close_check = = true start_point_check = = false print touch outside elif start_close_check = = true end_point_check = = true end_close_check = = true start_point_check = = true print touch inside', 'need proper volume centroid use areamasspropertie rhino geometry areamasspropertie compute(x).centroid   centroid exactly point near center use fast x. getboundingbox(false).pointat(0.5,0.5,0.5   x brep', 'https://developer.rhino3d.com/5/api/rhinocommonwin/html/m_rhino_geometry_geometrybase_transform.htm brep pass https://developer.rhino3d.com/5/api/rhinocommonwin/html/m_rhino_geometry_transform_scale_1.htm https://developer.rhino3d.com/5/api/rhinocommonwin/html/m_rhino_geometry_transform_scale.htm', 'pdf dialog suppress macro believe dialog box technically different program interact rhino option work print pdf rhinocommon option limited print wireframe view sharp edge https://developer.rhino3d.com/api/rhinocommon/html/methods_t_rhino_fileio_filepdf.htm expose sasquatch plugin grasshopper extra option embed raster view grasshopper disclaimer actually component workflow know kind issue come look way hack rounded edge pdf library use success                   food4rhino 15 feb 19              sasquatch utilities   collection geometry edit tool general utility grasshopper develop shop architects                            second use external pdf library draw file like itextsharp .net development work conversion 3d nurb 2d bezi curve pdf writer use effort write c write code hijack print pdf dialog run macro enter file hit print require dialog hijacking code run thread parallel code run macro watch print dialog pop little bit complicated write dialog hijacking stable solution resort code moment find share', '     stevebaer   bump minimum thickness    issue solve ok finally v6 earnest play motivate look solution visual annoyance flaw externally   apologize annoying   realize scope limit small number rig solve rig issue macpro6,1 32 4 k display   peculiar v5 v6 rhino display mode os display setting care @stevebaer suggest simply need bump display mode wireframe curve isocurve default 1 change 2 2s e.g. surface edge 3s   bingo fwiw 32 4k set scaled display sys pref middle setting look like 3008 x 1692   set default display 3480 x 2160 help significantly display mode set 1 general re 5 k imacs issue default display mode scale display resolution 1 setting', 'probably enable custom conduit time increase scene bound box include geometry', 'use human plugin   canvas%20at%2018%3b05%3b321473×678 110 kb', 'sorry read enable dimension history enable default turn run history command set recordannotationhistory option', 'like   encephalon say   image1396×716 162 kb', 'ask nicely    objs=[obj obj rs objectsbyname(\"name rs isobjectselectable(obj   seriously lot rs method look entire file object match criterion   example allobjects get matter lock hide etc   method state argument add like objectsbytype     need watch actually alter locked hidden object realize', '     ivelin.peychev   select surface polysurface    import rhino import rhinoscriptsyntax rs import scriptcontext sc import time   tol = sc.doc modelabsolutetolerance   objs_id = rs getobjects(\"select object rs.filter.surface+rs.filter.polysurface objs = rs.coercebrep(id id objs_id cutter_id = rs getobject(\"select split plane rs.filter.surface cutter = rs.coerceboundingbox(cutter_id wrong cutter = rs.coercebrep(cutter_id   ts = time.time split_part_ids= obj enumerate(objs      brep = obj split(cutter tol      brep virtual geometry need add document scriptcontext      brep          brep breps split_part_ids.append(sc.doc objects addbrep(brep          happen delete original object file          rs deleteobject(objs_ids[i te = time.time   print elapse time .2f}\".format(te ts', 'sure   like want   canvas%20at%2000%3b30%3b241419×704 123 kb   script 10.0_re.gh 66.7 kb', 'go hazard guess object attribute level search probably time ok simple test create box box_one set user text box_one key searcht run follow script time million search object contain user string key searcht contain import rhinoscriptsyntax rs import scriptcontext sc import rhino time   objid = rs getobject object object box_one object user text box_one store key searcht search object user string contain   obj = rs.coercerhinoobject(objid fragment=\"one   st1 = time.time name_search_count=0 range(1000000      = obj attribute      fragment name_search_count+=1 print search time= find .format(time.time()-st1,name_search_count       st2 = time.time string_search_count=0 range(1000000      ustr = obj attributes getuserstring(\"searchtest      fragment ustr string_search_count+=1 print string search time= find .format(time.time()-st2,string_search_count   result search time=1.56773376465 find 1000000 string search time=1.72177001953 find 1000000 difference 0.2 second million search extremely significant imo', '     modeler3d   know case point understand logic connection talk exclude point    mean edge select coincident n point n valence', '     helvetosaur   native rhino possible detection removal tool script lie look    thank @helvetosaur', 'think look brep issurface property import rhinoscriptsyntax rs s = rs getobject(\"select panel\",rs.filter.surface+rs.filter.polysurface s = rs.coercegeometry(s).tobrep s. issurface      print surface      print surface   p.s. need add .tobrep work extrusion', \"     joshd   hi @dancergraham thank idea   not know m misunderstand suggestion clear goal   m try run python script button macro language available button believe   not think import etc    possible little convoluted head fully previously   get work sample file hellopython.py folder call test home directory follow line button -_runpythonscript import os;import imp;homepath = os.path.expanduser('~');my_path = r'test\\\\hellopython.py';imp.load_source('hellopython os.path.join(homepath my_path run hellopython file\", 'hi @dsw attach basically gh componet cmdtestwolfgang.cpp 3.7 kb dale', 'ideal solution end rewrite original addblock method single guid add new module eg mycustommodule rhino app content folder run atom import rhinoscriptsyntax rs objs = rs objectsbytype(16 false obj objs      point = 0 0 0      block = rs addblockforsingleobject(obj point true   rewrite function      r insertblock(block point   new module function def addblockforsingleobject(id base_point = delete_input = false      base_point = rhutil.coerce3dpoint(base_point true               = scriptcontext.doc instancedefinition getunusedinstancedefinitionname      find = scriptcontext.doc instancedefinition find(name true      object =       obj = rhutil.coercerhinoobject(id true      obj isreference return      ot = obj objecttype      ot==rhino docobjects objecttype light return      ot==rhino docobjects objecttype grip return      ot==rhino docobjects objecttype phantom return      ot==rhino docobjects objecttype instancereference find          use nesting = obj usesdefinition(found index          use return      objects.append(obj       object          geometry = obj geometry obj object          attrs = obj attribute obj object          rc = 0          find            rc = scriptcontext.doc instancedefinition modifygeometry(found index geometry attrs                     rc = scriptcontext.doc instancedefinition add(name base_point geometry attrs          rc&gt;=0              delete_input                  obj object scriptcontext.doc objects delete(obj true              scriptcontext.doc view redraw      return', 'thing forget folder run yak spec contain .rhp .gha file .rhp inspect want package restore work .gha need sure package match gh_assemblyinfo replace secret.id guid run yak spec .rhp temporarily remove directory', 'hi @oktkhr0916 use crhinoobjectiterator sample https://github.com/mcneel/rhino-developer-samples/blob/6/cpp/samplecommands/cmdsampleselectbyname.cpp developer sample repo github example dale', 'hi look like error update component old previous v6 sr   value take 1 multiplication.gh 7.0 kb version 6 sr13 6.13.19058.371 02/27/2019   image.png1097×364 34.3 kb', 'take liberty recreate brep line actually curve precisely symmetrical maybe like   canvas%20at%2021%3b35%3b571314×760 212 kb   hexagonspiralquestion-b.gh 250.8 kb', 'use like streamfilter   paul.png788×568 30.3 kb', 'hi mattytraxx welcome rhino forum      mattytraxx   expect find setting document properties -&gt grid -&gt grid property see    find setting rhino options gt view gt displaymodes gt grid   showgridontopbug.png807×677 15.4 kb   work like expect maybe bug @pascal', 'wire display setting mistake begin hiding complexity stand reduce complexity metahopper probably tool tool programmatically change gh', 'open file guess edge length get low tolerance setting kangaroo lead vertex getting merge try reduce tolerance 0.00001', 'false positive antivirus report able upload', 'use rs.filter.instance', 'rs blockcontainers(block_name https://developer.rhino3d.com/api/rhinoscriptsyntax/#block-blockcontainer return block level parent', 'look point curve component point brep extrude brep closed brep inclusion test cull inside', 'need calibrate printer usually advanced property well printer use calibration tool rhino printer details section print setup window scale x y separately', 'think look gh_rhinoscriptinterface iseditorloade import rhinoscriptsyntax rs gh = rs getpluginobject(\"grasshopper gh iseditorloaded      print grasshoppper load      print grasshopper load   siemen.py 177 bytes', 'maybe joinbreps uncapped surface work well upload file geometry goal visualization fabrication   brep mesh instead', 'lol figure rs addbox(bbb', 'pretty sure come fact people prefer = = obj order guard typo = obj typo compile error assign good notice immediately obj = c++ compile bug unnoticed btw like = = obj read brain get confused   -david', 'give correct result sub_block_name = rs blockinstancename(sub_block_id', 'look like fix problem thank', 'look like popup menu possibly customize set mouse button rhinoceros gt preference customizing set command set copy default rhinoceros gt command open customize panel rhinoceros gt commands gt customize click popup palette drag drop icon repository leave panel max', 'work clean grid point try patch surface instead trim project boundary curve', 'look https://developer.rhino3d.com/api/rhinocommon/html/m_rhino_geometry_plane_remaptoplanespace.htm   image.png1202×768 75.4 kb   import rhino import scriptcontext sc    def pointcoordinates           gp = rhino input custom getpoint      gp setcommandprompt(\"select point      cplane = sc.doc view activeview activeviewport constructionplane           true                   gp clearcommandoption                   get_rc = gp                   gp commandresult()!=rhino command result success              return gp commandresult                   get_rc==rhino input getresult point              point = gp point              print pick point world coordinate + str(point              bsuccess pointpulle = cplane remaptoplanespace(point              print pick point plane coordinate + str(pointpulled          get_rc = = rhino input getresult cancel              break      return rhino command result success   = = main      pointcoordinates', 'kangaroo2 order magnitude fast kangaroo1 sort thing short script thing definition share gh script component operation rhino plugin.poly500_scripted.gh 14.4 kb', '     0904   removesegment delete line    sure exactly get want remove linetype completely import rhino remove linetype linetypeindex = rhino rhinodoc activedoc linetype find(\"dashe true linetype = rhino rhinodoc activedoc linetypes[linetypeindex rhino rhinodoc activedoc linetype delete(linetype   remove linetype.py 230 bytes', 'thank solve   import rhinoscriptsyntax rs import scriptcontext sc    def blockaecide      block_obj_inst_id = rs getobject(\"select block rs.filter.instance      rs explodeblockinstance(block_obj_inst_id explode_nested_instances = true           blocks_leftover = block_obj block_obj r allobjects block_obj rs.filter.instance      blocks_table = sc.doc instancedefinition      print len(blocks_leftovers      print len(blocks_table      len(blocks_leftover = = 0 len(blocks_table = 0          sc.doc instancedefinition clear    name__==\"__main      blockaecide  ', 'use link https://discourse.mcneel.com/tags/service-release', 'need use rs.coercegeometry return geometry use rs.coercerhinoobject return rhino object https://developer.rhino3d.com/api/rhinocommon/html/t_rhino_docobjects_rhinoobject.htm object property geometry https://developer.rhino3d.com/api/rhinocommon/html/p_rhino_docobjects_rhinoobject_geometry.htm straight rhinocommon approach like x string input layername = obj geometry obj rhino rhinodoc activedoc objects findbylayer(x', 'think rounding issue equal case example check 0 vs 0.00001   image.png1245×338 30.7 kb', 'pass path sub layer name order rs layerid work mcneel add clarification documentation method thank advance', 'hi check options blockedit plugin enable   image.png618×537 35.9 kb', 'use index 0   sd jpg939×573 39.2 kb   cull index 0 clean tree   sd2.jpg962×581 46.4 kb', 'solve   ignore value pop window set 0 reset non zero value pointdeviation work properly check ignore value large value', 'thank @helvetosaur thank @rajaa thread help start                   make2d rhinocommon script            know make2d grasshopper wip functionality expose directly rhinocommon find   thank   --mitch                        exploding rhinocommon hiddenlinedrawing segment scripting            compute hiddenlinedrawing collection segment store .segment       hdp = rhino geometry hiddenlinedrawingparameter      hdp absolutetolerance = sc.doc modelabsolutetolerance      hdp addgeometry(sc.doc object find(objid).geometry objid objids      hdp setviewport(vp      hdp flatten = true      hld = rhino geometry hiddenlinedrawe compute(hdp true           enumerate collection segment      seg enumerate(hld segment            ', 'curve close 5 curve   canvas 01;36;48.png1236×424 76 kb   boundary surfaces_re.gh 13.2 kb', 'turn display adapter driver need update accord windows driver date go manufacturer website turn fact date thank help appreciated', '@sieman thread                   miss image thread meta            lot image miss old thread   system failure cleanup     ', 'imagine slight bit difference rendering -pascal', 'try sift component provide destination output individual value', 'quick look maybe help 1612_sine wave wall_2019.03.20_v2.gh 230.6 kb', 'hi @mrhe author tarsier source code attempt similar goal work suggestion help improve performance   output list gh_point instead point3d linq da.setdatalist(0 pointcloud select(x = gt new gh_point(x general rule massively increase performance output object save grasshopper have cast create grasshopper natively implement rhino pointcloud class create tarsier avoid exactly creation hundred thousand point frame proper grasshopper fashion preview rhino point cloud custom preview(thickness bake set deconstruct reconstruct dynamic casting rhinocommon point cloud class implementation interoperable code    memory consideration load frame 10 20ms mediocre pc case expect enormous performance gain single line linq mention 1 2 primarily aim address draw time rhino point cloud render significantly fast 100,000 individual point grasshopper run rhino main thread affect update speed simple benchmark technique 1 100,000 randomly generate point   image.png1401×603 59.2 kb   awesome go 565 ms 12 ms 4700 fast unfortunately draw 100,000 individual point component enable pretty poor display performance time regen viewport 100 time = 5.41 second 18.50 fps address 2 let output point cloud write display function advantage include kinect color directly point cloud manage different list construct output point cloud result similar slightly well array method case write renderer separate component easily able embed receiver   image.png1316×544 33.6 kb   renderer computing runscript computation time test viewport speed testmaxspeed time regen viewport 100 time = 0.83 second 120.77 fps 600 render performance attach example demonstrate pointcloud_performance.gh 8.2 kb cheers cam', 'hi try import rhinoscriptsyntax rs   def placecircles(curve distance      length = rs curvelength(curve      domain = rs curvedomain(curve           parameter =   domain[0]+distance length*(domain[1]-domain[0      parameter2 = domain[1]-distance length*(domain[1]-domain[0           curvepoint = rs evaluatecurve(curve parameter      curvepoint2 = rs evaluatecurve(curve parameter2           circle = rs addcircle(curvepoint 3      circle2 = rs addcircle(curvepoint2 3           circles.append((circle circle2   def circledist      objs = rs getobjects(\"select object 0 false true           objs return      distance = rs getreal(\"distance edge      distance return           obj objs          crvs = rs explodecurves(obj                   crv crvs              placecircles(crv distance   circle = circledist print circle', 'thing improve load protect disable 3d connexion plug restart rhino', 'hi @sieman import grasshopper namespace python access asume know find document component gh component object access persistent datum e.g. brep component brep assign user rhino object ids like component_obj persistentdatacount gt 0      datum component_obj persistentdata           hasattr(data referenceid              print objectid datum referenceid   c.', '     jlgrobe   origin far away coordinate system indicate relate    yes especially raytraced render mode draw look like broken geometry      jlgrobe   rework origin lose ability reference shp coordinate place    review https://wiki.mcneel.com/rhino/farfromorigin /nathan', 'certainly code grasshopper softmove.gh 17.5 kb   softmove1212×824 284 kb', 'solve problem not datatree&gt ha use 1 datatree play dh_path', 'rh-51591 fix late rhino 7.8 service release candidate']\n"
          ]
        }
      ]
    },
    {
      "cell_type": "code",
      "source": [
        "tokenized_dataset[0]"
      ],
      "metadata": {
        "colab": {
          "base_uri": "https://localhost:8080/",
          "height": 53
        },
        "id": "QhmNvfIN0Dtm",
        "outputId": "176e3fbb-92cb-4c90-ac12-935a2ce56cf0"
      },
      "execution_count": 15,
      "outputs": [
        {
          "output_type": "execute_result",
          "data": {
            "text/plain": [
              "'hello @alex_8 look clear explanation   screen shot 2019 02 24 11.15.09.png1260×655 95.3 kb   note need component lunchbox work dot indicate straight planar basis locate topo_v1.gh 34.8 kb'"
            ],
            "application/vnd.google.colaboratory.intrinsic+json": {
              "type": "string"
            }
          },
          "metadata": {},
          "execution_count": 15
        }
      ]
    },
    {
      "cell_type": "markdown",
      "source": [
        "## Analytics\n",
        "- prepare embeddings\n",
        "- use [Bertopic](https://colab.research.google.com/corgiredirector?site=https%3A%2F%2Fmaartengr.github.io%2FBERTopic%2Findex.html) by Marteen Grootendorst for analtics on the set"
      ],
      "metadata": {
        "id": "v55DAlWTycP8"
      }
    },
    {
      "cell_type": "code",
      "source": [
        "# Prepare embeddings\n",
        "sentence_model = SentenceTransformer(\"all-MiniLM-L6-v2\")\n",
        "embeddings = sentence_model.encode(tokenized_dataset, show_progress_bar=True)"
      ],
      "metadata": {
        "id": "QtePIyNpya9s"
      },
      "execution_count": null,
      "outputs": []
    },
    {
      "cell_type": "code",
      "source": [
        "topic_model = BERTopic().fit(tokenized_dataset, embeddings)"
      ],
      "metadata": {
        "id": "y8kKf_iFzjV4"
      },
      "execution_count": 17,
      "outputs": []
    },
    {
      "cell_type": "code",
      "source": [
        "topic_model.get_topic_info()"
      ],
      "metadata": {
        "colab": {
          "base_uri": "https://localhost:8080/",
          "height": 143
        },
        "id": "eXDyn7lN1FBl",
        "outputId": "f81089aa-1139-4519-8315-6c9f4ca14d10"
      },
      "execution_count": 18,
      "outputs": [
        {
          "output_type": "execute_result",
          "data": {
            "text/plain": [
              "   Topic  Count                               Name  \\\n",
              "0     -1     39  -1_vector_vertex_geometry_display   \n",
              "1      0     49              0_kb_surface_look_use   \n",
              "2      1     40            1_rhino_rs_object_print   \n",
              "\n",
              "                                      Representation  \\\n",
              "0  [vector, vertex, geometry, display, value, fil...   \n",
              "1  [kb, surface, look, use, fillet, offset, large...   \n",
              "2  [rhino, rs, object, print, point, import, retu...   \n",
              "\n",
              "                                 Representative_Docs  \n",
              "0  [     stevebaer   bump minimum thickness    is...  \n",
              "1  [close evaluate surface require uv point xyz p...  \n",
              "2  [hi @mrhe author tarsier source code attempt s...  "
            ],
            "text/html": [
              "\n",
              "  <div id=\"df-5d579e8e-053a-4cfe-b05f-97de768fcc0d\" class=\"colab-df-container\">\n",
              "    <div>\n",
              "<style scoped>\n",
              "    .dataframe tbody tr th:only-of-type {\n",
              "        vertical-align: middle;\n",
              "    }\n",
              "\n",
              "    .dataframe tbody tr th {\n",
              "        vertical-align: top;\n",
              "    }\n",
              "\n",
              "    .dataframe thead th {\n",
              "        text-align: right;\n",
              "    }\n",
              "</style>\n",
              "<table border=\"1\" class=\"dataframe\">\n",
              "  <thead>\n",
              "    <tr style=\"text-align: right;\">\n",
              "      <th></th>\n",
              "      <th>Topic</th>\n",
              "      <th>Count</th>\n",
              "      <th>Name</th>\n",
              "      <th>Representation</th>\n",
              "      <th>Representative_Docs</th>\n",
              "    </tr>\n",
              "  </thead>\n",
              "  <tbody>\n",
              "    <tr>\n",
              "      <th>0</th>\n",
              "      <td>-1</td>\n",
              "      <td>39</td>\n",
              "      <td>-1_vector_vertex_geometry_display</td>\n",
              "      <td>[vector, vertex, geometry, display, value, fil...</td>\n",
              "      <td>[     stevebaer   bump minimum thickness    is...</td>\n",
              "    </tr>\n",
              "    <tr>\n",
              "      <th>1</th>\n",
              "      <td>0</td>\n",
              "      <td>49</td>\n",
              "      <td>0_kb_surface_look_use</td>\n",
              "      <td>[kb, surface, look, use, fillet, offset, large...</td>\n",
              "      <td>[close evaluate surface require uv point xyz p...</td>\n",
              "    </tr>\n",
              "    <tr>\n",
              "      <th>2</th>\n",
              "      <td>1</td>\n",
              "      <td>40</td>\n",
              "      <td>1_rhino_rs_object_print</td>\n",
              "      <td>[rhino, rs, object, print, point, import, retu...</td>\n",
              "      <td>[hi @mrhe author tarsier source code attempt s...</td>\n",
              "    </tr>\n",
              "  </tbody>\n",
              "</table>\n",
              "</div>\n",
              "    <div class=\"colab-df-buttons\">\n",
              "\n",
              "  <div class=\"colab-df-container\">\n",
              "    <button class=\"colab-df-convert\" onclick=\"convertToInteractive('df-5d579e8e-053a-4cfe-b05f-97de768fcc0d')\"\n",
              "            title=\"Convert this dataframe to an interactive table.\"\n",
              "            style=\"display:none;\">\n",
              "\n",
              "  <svg xmlns=\"http://www.w3.org/2000/svg\" height=\"24px\" viewBox=\"0 -960 960 960\">\n",
              "    <path d=\"M120-120v-720h720v720H120Zm60-500h600v-160H180v160Zm220 220h160v-160H400v160Zm0 220h160v-160H400v160ZM180-400h160v-160H180v160Zm440 0h160v-160H620v160ZM180-180h160v-160H180v160Zm440 0h160v-160H620v160Z\"/>\n",
              "  </svg>\n",
              "    </button>\n",
              "\n",
              "  <style>\n",
              "    .colab-df-container {\n",
              "      display:flex;\n",
              "      gap: 12px;\n",
              "    }\n",
              "\n",
              "    .colab-df-convert {\n",
              "      background-color: #E8F0FE;\n",
              "      border: none;\n",
              "      border-radius: 50%;\n",
              "      cursor: pointer;\n",
              "      display: none;\n",
              "      fill: #1967D2;\n",
              "      height: 32px;\n",
              "      padding: 0 0 0 0;\n",
              "      width: 32px;\n",
              "    }\n",
              "\n",
              "    .colab-df-convert:hover {\n",
              "      background-color: #E2EBFA;\n",
              "      box-shadow: 0px 1px 2px rgba(60, 64, 67, 0.3), 0px 1px 3px 1px rgba(60, 64, 67, 0.15);\n",
              "      fill: #174EA6;\n",
              "    }\n",
              "\n",
              "    .colab-df-buttons div {\n",
              "      margin-bottom: 4px;\n",
              "    }\n",
              "\n",
              "    [theme=dark] .colab-df-convert {\n",
              "      background-color: #3B4455;\n",
              "      fill: #D2E3FC;\n",
              "    }\n",
              "\n",
              "    [theme=dark] .colab-df-convert:hover {\n",
              "      background-color: #434B5C;\n",
              "      box-shadow: 0px 1px 3px 1px rgba(0, 0, 0, 0.15);\n",
              "      filter: drop-shadow(0px 1px 2px rgba(0, 0, 0, 0.3));\n",
              "      fill: #FFFFFF;\n",
              "    }\n",
              "  </style>\n",
              "\n",
              "    <script>\n",
              "      const buttonEl =\n",
              "        document.querySelector('#df-5d579e8e-053a-4cfe-b05f-97de768fcc0d button.colab-df-convert');\n",
              "      buttonEl.style.display =\n",
              "        google.colab.kernel.accessAllowed ? 'block' : 'none';\n",
              "\n",
              "      async function convertToInteractive(key) {\n",
              "        const element = document.querySelector('#df-5d579e8e-053a-4cfe-b05f-97de768fcc0d');\n",
              "        const dataTable =\n",
              "          await google.colab.kernel.invokeFunction('convertToInteractive',\n",
              "                                                    [key], {});\n",
              "        if (!dataTable) return;\n",
              "\n",
              "        const docLinkHtml = 'Like what you see? Visit the ' +\n",
              "          '<a target=\"_blank\" href=https://colab.research.google.com/notebooks/data_table.ipynb>data table notebook</a>'\n",
              "          + ' to learn more about interactive tables.';\n",
              "        element.innerHTML = '';\n",
              "        dataTable['output_type'] = 'display_data';\n",
              "        await google.colab.output.renderOutput(dataTable, element);\n",
              "        const docLink = document.createElement('div');\n",
              "        docLink.innerHTML = docLinkHtml;\n",
              "        element.appendChild(docLink);\n",
              "      }\n",
              "    </script>\n",
              "  </div>\n",
              "\n",
              "\n",
              "<div id=\"df-395639ae-4b6c-471e-8d0b-d0c37b7f2b02\">\n",
              "  <button class=\"colab-df-quickchart\" onclick=\"quickchart('df-395639ae-4b6c-471e-8d0b-d0c37b7f2b02')\"\n",
              "            title=\"Suggest charts.\"\n",
              "            style=\"display:none;\">\n",
              "\n",
              "<svg xmlns=\"http://www.w3.org/2000/svg\" height=\"24px\"viewBox=\"0 0 24 24\"\n",
              "     width=\"24px\">\n",
              "    <g>\n",
              "        <path d=\"M19 3H5c-1.1 0-2 .9-2 2v14c0 1.1.9 2 2 2h14c1.1 0 2-.9 2-2V5c0-1.1-.9-2-2-2zM9 17H7v-7h2v7zm4 0h-2V7h2v10zm4 0h-2v-4h2v4z\"/>\n",
              "    </g>\n",
              "</svg>\n",
              "  </button>\n",
              "\n",
              "<style>\n",
              "  .colab-df-quickchart {\n",
              "      --bg-color: #E8F0FE;\n",
              "      --fill-color: #1967D2;\n",
              "      --hover-bg-color: #E2EBFA;\n",
              "      --hover-fill-color: #174EA6;\n",
              "      --disabled-fill-color: #AAA;\n",
              "      --disabled-bg-color: #DDD;\n",
              "  }\n",
              "\n",
              "  [theme=dark] .colab-df-quickchart {\n",
              "      --bg-color: #3B4455;\n",
              "      --fill-color: #D2E3FC;\n",
              "      --hover-bg-color: #434B5C;\n",
              "      --hover-fill-color: #FFFFFF;\n",
              "      --disabled-bg-color: #3B4455;\n",
              "      --disabled-fill-color: #666;\n",
              "  }\n",
              "\n",
              "  .colab-df-quickchart {\n",
              "    background-color: var(--bg-color);\n",
              "    border: none;\n",
              "    border-radius: 50%;\n",
              "    cursor: pointer;\n",
              "    display: none;\n",
              "    fill: var(--fill-color);\n",
              "    height: 32px;\n",
              "    padding: 0;\n",
              "    width: 32px;\n",
              "  }\n",
              "\n",
              "  .colab-df-quickchart:hover {\n",
              "    background-color: var(--hover-bg-color);\n",
              "    box-shadow: 0 1px 2px rgba(60, 64, 67, 0.3), 0 1px 3px 1px rgba(60, 64, 67, 0.15);\n",
              "    fill: var(--button-hover-fill-color);\n",
              "  }\n",
              "\n",
              "  .colab-df-quickchart-complete:disabled,\n",
              "  .colab-df-quickchart-complete:disabled:hover {\n",
              "    background-color: var(--disabled-bg-color);\n",
              "    fill: var(--disabled-fill-color);\n",
              "    box-shadow: none;\n",
              "  }\n",
              "\n",
              "  .colab-df-spinner {\n",
              "    border: 2px solid var(--fill-color);\n",
              "    border-color: transparent;\n",
              "    border-bottom-color: var(--fill-color);\n",
              "    animation:\n",
              "      spin 1s steps(1) infinite;\n",
              "  }\n",
              "\n",
              "  @keyframes spin {\n",
              "    0% {\n",
              "      border-color: transparent;\n",
              "      border-bottom-color: var(--fill-color);\n",
              "      border-left-color: var(--fill-color);\n",
              "    }\n",
              "    20% {\n",
              "      border-color: transparent;\n",
              "      border-left-color: var(--fill-color);\n",
              "      border-top-color: var(--fill-color);\n",
              "    }\n",
              "    30% {\n",
              "      border-color: transparent;\n",
              "      border-left-color: var(--fill-color);\n",
              "      border-top-color: var(--fill-color);\n",
              "      border-right-color: var(--fill-color);\n",
              "    }\n",
              "    40% {\n",
              "      border-color: transparent;\n",
              "      border-right-color: var(--fill-color);\n",
              "      border-top-color: var(--fill-color);\n",
              "    }\n",
              "    60% {\n",
              "      border-color: transparent;\n",
              "      border-right-color: var(--fill-color);\n",
              "    }\n",
              "    80% {\n",
              "      border-color: transparent;\n",
              "      border-right-color: var(--fill-color);\n",
              "      border-bottom-color: var(--fill-color);\n",
              "    }\n",
              "    90% {\n",
              "      border-color: transparent;\n",
              "      border-bottom-color: var(--fill-color);\n",
              "    }\n",
              "  }\n",
              "</style>\n",
              "\n",
              "  <script>\n",
              "    async function quickchart(key) {\n",
              "      const quickchartButtonEl =\n",
              "        document.querySelector('#' + key + ' button');\n",
              "      quickchartButtonEl.disabled = true;  // To prevent multiple clicks.\n",
              "      quickchartButtonEl.classList.add('colab-df-spinner');\n",
              "      try {\n",
              "        const charts = await google.colab.kernel.invokeFunction(\n",
              "            'suggestCharts', [key], {});\n",
              "      } catch (error) {\n",
              "        console.error('Error during call to suggestCharts:', error);\n",
              "      }\n",
              "      quickchartButtonEl.classList.remove('colab-df-spinner');\n",
              "      quickchartButtonEl.classList.add('colab-df-quickchart-complete');\n",
              "    }\n",
              "    (() => {\n",
              "      let quickchartButtonEl =\n",
              "        document.querySelector('#df-395639ae-4b6c-471e-8d0b-d0c37b7f2b02 button');\n",
              "      quickchartButtonEl.style.display =\n",
              "        google.colab.kernel.accessAllowed ? 'block' : 'none';\n",
              "    })();\n",
              "  </script>\n",
              "</div>\n",
              "    </div>\n",
              "  </div>\n"
            ]
          },
          "metadata": {},
          "execution_count": 18
        }
      ]
    },
    {
      "cell_type": "code",
      "source": [
        "topic_model.visualize_barchart(top_n_topics=50,n_words=5)"
      ],
      "metadata": {
        "colab": {
          "base_uri": "https://localhost:8080/",
          "height": 342
        },
        "id": "rKUW5CWR1Zmf",
        "outputId": "75bc5be9-b09b-4bba-f7a6-dd18ae21396c"
      },
      "execution_count": 19,
      "outputs": [
        {
          "output_type": "display_data",
          "data": {
            "text/html": [
              "<html>\n",
              "<head><meta charset=\"utf-8\" /></head>\n",
              "<body>\n",
              "    <div>            <script src=\"https://cdnjs.cloudflare.com/ajax/libs/mathjax/2.7.5/MathJax.js?config=TeX-AMS-MML_SVG\"></script><script type=\"text/javascript\">if (window.MathJax && window.MathJax.Hub && window.MathJax.Hub.Config) {window.MathJax.Hub.Config({SVG: {font: \"STIX-Web\"}});}</script>                <script type=\"text/javascript\">window.PlotlyConfig = {MathJaxConfig: 'local'};</script>\n",
              "        <script charset=\"utf-8\" src=\"https://cdn.plot.ly/plotly-2.24.1.min.js\"></script>                <div id=\"73419f96-9079-4716-ae30-d35565a9dc4d\" class=\"plotly-graph-div\" style=\"height:325.0px; width:1000px;\"></div>            <script type=\"text/javascript\">                                    window.PLOTLYENV=window.PLOTLYENV || {};                                    if (document.getElementById(\"73419f96-9079-4716-ae30-d35565a9dc4d\")) {                    Plotly.newPlot(                        \"73419f96-9079-4716-ae30-d35565a9dc4d\",                        [{\"marker\":{\"color\":\"#D55E00\"},\"orientation\":\"h\",\"x\":[0.0493445559665469,0.051520349750648106,0.05349539078259173,0.10517445201001181,0.16660398515184288],\"y\":[\"fillet  \",\"use  \",\"look  \",\"surface  \",\"kb  \"],\"type\":\"bar\",\"xaxis\":\"x\",\"yaxis\":\"y\"},{\"marker\":{\"color\":\"#0072B2\"},\"orientation\":\"h\",\"x\":[0.04210861624910061,0.0462348112857009,0.04760104445550503,0.06728267320353937,0.09381160682203474],\"y\":[\"point  \",\"print  \",\"object  \",\"rs  \",\"rhino  \"],\"type\":\"bar\",\"xaxis\":\"x2\",\"yaxis\":\"y2\"}],                        {\"template\":{\"data\":{\"barpolar\":[{\"marker\":{\"line\":{\"color\":\"white\",\"width\":0.5},\"pattern\":{\"fillmode\":\"overlay\",\"size\":10,\"solidity\":0.2}},\"type\":\"barpolar\"}],\"bar\":[{\"error_x\":{\"color\":\"#2a3f5f\"},\"error_y\":{\"color\":\"#2a3f5f\"},\"marker\":{\"line\":{\"color\":\"white\",\"width\":0.5},\"pattern\":{\"fillmode\":\"overlay\",\"size\":10,\"solidity\":0.2}},\"type\":\"bar\"}],\"carpet\":[{\"aaxis\":{\"endlinecolor\":\"#2a3f5f\",\"gridcolor\":\"#C8D4E3\",\"linecolor\":\"#C8D4E3\",\"minorgridcolor\":\"#C8D4E3\",\"startlinecolor\":\"#2a3f5f\"},\"baxis\":{\"endlinecolor\":\"#2a3f5f\",\"gridcolor\":\"#C8D4E3\",\"linecolor\":\"#C8D4E3\",\"minorgridcolor\":\"#C8D4E3\",\"startlinecolor\":\"#2a3f5f\"},\"type\":\"carpet\"}],\"choropleth\":[{\"colorbar\":{\"outlinewidth\":0,\"ticks\":\"\"},\"type\":\"choropleth\"}],\"contourcarpet\":[{\"colorbar\":{\"outlinewidth\":0,\"ticks\":\"\"},\"type\":\"contourcarpet\"}],\"contour\":[{\"colorbar\":{\"outlinewidth\":0,\"ticks\":\"\"},\"colorscale\":[[0.0,\"#0d0887\"],[0.1111111111111111,\"#46039f\"],[0.2222222222222222,\"#7201a8\"],[0.3333333333333333,\"#9c179e\"],[0.4444444444444444,\"#bd3786\"],[0.5555555555555556,\"#d8576b\"],[0.6666666666666666,\"#ed7953\"],[0.7777777777777778,\"#fb9f3a\"],[0.8888888888888888,\"#fdca26\"],[1.0,\"#f0f921\"]],\"type\":\"contour\"}],\"heatmapgl\":[{\"colorbar\":{\"outlinewidth\":0,\"ticks\":\"\"},\"colorscale\":[[0.0,\"#0d0887\"],[0.1111111111111111,\"#46039f\"],[0.2222222222222222,\"#7201a8\"],[0.3333333333333333,\"#9c179e\"],[0.4444444444444444,\"#bd3786\"],[0.5555555555555556,\"#d8576b\"],[0.6666666666666666,\"#ed7953\"],[0.7777777777777778,\"#fb9f3a\"],[0.8888888888888888,\"#fdca26\"],[1.0,\"#f0f921\"]],\"type\":\"heatmapgl\"}],\"heatmap\":[{\"colorbar\":{\"outlinewidth\":0,\"ticks\":\"\"},\"colorscale\":[[0.0,\"#0d0887\"],[0.1111111111111111,\"#46039f\"],[0.2222222222222222,\"#7201a8\"],[0.3333333333333333,\"#9c179e\"],[0.4444444444444444,\"#bd3786\"],[0.5555555555555556,\"#d8576b\"],[0.6666666666666666,\"#ed7953\"],[0.7777777777777778,\"#fb9f3a\"],[0.8888888888888888,\"#fdca26\"],[1.0,\"#f0f921\"]],\"type\":\"heatmap\"}],\"histogram2dcontour\":[{\"colorbar\":{\"outlinewidth\":0,\"ticks\":\"\"},\"colorscale\":[[0.0,\"#0d0887\"],[0.1111111111111111,\"#46039f\"],[0.2222222222222222,\"#7201a8\"],[0.3333333333333333,\"#9c179e\"],[0.4444444444444444,\"#bd3786\"],[0.5555555555555556,\"#d8576b\"],[0.6666666666666666,\"#ed7953\"],[0.7777777777777778,\"#fb9f3a\"],[0.8888888888888888,\"#fdca26\"],[1.0,\"#f0f921\"]],\"type\":\"histogram2dcontour\"}],\"histogram2d\":[{\"colorbar\":{\"outlinewidth\":0,\"ticks\":\"\"},\"colorscale\":[[0.0,\"#0d0887\"],[0.1111111111111111,\"#46039f\"],[0.2222222222222222,\"#7201a8\"],[0.3333333333333333,\"#9c179e\"],[0.4444444444444444,\"#bd3786\"],[0.5555555555555556,\"#d8576b\"],[0.6666666666666666,\"#ed7953\"],[0.7777777777777778,\"#fb9f3a\"],[0.8888888888888888,\"#fdca26\"],[1.0,\"#f0f921\"]],\"type\":\"histogram2d\"}],\"histogram\":[{\"marker\":{\"pattern\":{\"fillmode\":\"overlay\",\"size\":10,\"solidity\":0.2}},\"type\":\"histogram\"}],\"mesh3d\":[{\"colorbar\":{\"outlinewidth\":0,\"ticks\":\"\"},\"type\":\"mesh3d\"}],\"parcoords\":[{\"line\":{\"colorbar\":{\"outlinewidth\":0,\"ticks\":\"\"}},\"type\":\"parcoords\"}],\"pie\":[{\"automargin\":true,\"type\":\"pie\"}],\"scatter3d\":[{\"line\":{\"colorbar\":{\"outlinewidth\":0,\"ticks\":\"\"}},\"marker\":{\"colorbar\":{\"outlinewidth\":0,\"ticks\":\"\"}},\"type\":\"scatter3d\"}],\"scattercarpet\":[{\"marker\":{\"colorbar\":{\"outlinewidth\":0,\"ticks\":\"\"}},\"type\":\"scattercarpet\"}],\"scattergeo\":[{\"marker\":{\"colorbar\":{\"outlinewidth\":0,\"ticks\":\"\"}},\"type\":\"scattergeo\"}],\"scattergl\":[{\"marker\":{\"colorbar\":{\"outlinewidth\":0,\"ticks\":\"\"}},\"type\":\"scattergl\"}],\"scattermapbox\":[{\"marker\":{\"colorbar\":{\"outlinewidth\":0,\"ticks\":\"\"}},\"type\":\"scattermapbox\"}],\"scatterpolargl\":[{\"marker\":{\"colorbar\":{\"outlinewidth\":0,\"ticks\":\"\"}},\"type\":\"scatterpolargl\"}],\"scatterpolar\":[{\"marker\":{\"colorbar\":{\"outlinewidth\":0,\"ticks\":\"\"}},\"type\":\"scatterpolar\"}],\"scatter\":[{\"fillpattern\":{\"fillmode\":\"overlay\",\"size\":10,\"solidity\":0.2},\"type\":\"scatter\"}],\"scatterternary\":[{\"marker\":{\"colorbar\":{\"outlinewidth\":0,\"ticks\":\"\"}},\"type\":\"scatterternary\"}],\"surface\":[{\"colorbar\":{\"outlinewidth\":0,\"ticks\":\"\"},\"colorscale\":[[0.0,\"#0d0887\"],[0.1111111111111111,\"#46039f\"],[0.2222222222222222,\"#7201a8\"],[0.3333333333333333,\"#9c179e\"],[0.4444444444444444,\"#bd3786\"],[0.5555555555555556,\"#d8576b\"],[0.6666666666666666,\"#ed7953\"],[0.7777777777777778,\"#fb9f3a\"],[0.8888888888888888,\"#fdca26\"],[1.0,\"#f0f921\"]],\"type\":\"surface\"}],\"table\":[{\"cells\":{\"fill\":{\"color\":\"#EBF0F8\"},\"line\":{\"color\":\"white\"}},\"header\":{\"fill\":{\"color\":\"#C8D4E3\"},\"line\":{\"color\":\"white\"}},\"type\":\"table\"}]},\"layout\":{\"annotationdefaults\":{\"arrowcolor\":\"#2a3f5f\",\"arrowhead\":0,\"arrowwidth\":1},\"autotypenumbers\":\"strict\",\"coloraxis\":{\"colorbar\":{\"outlinewidth\":0,\"ticks\":\"\"}},\"colorscale\":{\"diverging\":[[0,\"#8e0152\"],[0.1,\"#c51b7d\"],[0.2,\"#de77ae\"],[0.3,\"#f1b6da\"],[0.4,\"#fde0ef\"],[0.5,\"#f7f7f7\"],[0.6,\"#e6f5d0\"],[0.7,\"#b8e186\"],[0.8,\"#7fbc41\"],[0.9,\"#4d9221\"],[1,\"#276419\"]],\"sequential\":[[0.0,\"#0d0887\"],[0.1111111111111111,\"#46039f\"],[0.2222222222222222,\"#7201a8\"],[0.3333333333333333,\"#9c179e\"],[0.4444444444444444,\"#bd3786\"],[0.5555555555555556,\"#d8576b\"],[0.6666666666666666,\"#ed7953\"],[0.7777777777777778,\"#fb9f3a\"],[0.8888888888888888,\"#fdca26\"],[1.0,\"#f0f921\"]],\"sequentialminus\":[[0.0,\"#0d0887\"],[0.1111111111111111,\"#46039f\"],[0.2222222222222222,\"#7201a8\"],[0.3333333333333333,\"#9c179e\"],[0.4444444444444444,\"#bd3786\"],[0.5555555555555556,\"#d8576b\"],[0.6666666666666666,\"#ed7953\"],[0.7777777777777778,\"#fb9f3a\"],[0.8888888888888888,\"#fdca26\"],[1.0,\"#f0f921\"]]},\"colorway\":[\"#636efa\",\"#EF553B\",\"#00cc96\",\"#ab63fa\",\"#FFA15A\",\"#19d3f3\",\"#FF6692\",\"#B6E880\",\"#FF97FF\",\"#FECB52\"],\"font\":{\"color\":\"#2a3f5f\"},\"geo\":{\"bgcolor\":\"white\",\"lakecolor\":\"white\",\"landcolor\":\"white\",\"showlakes\":true,\"showland\":true,\"subunitcolor\":\"#C8D4E3\"},\"hoverlabel\":{\"align\":\"left\"},\"hovermode\":\"closest\",\"mapbox\":{\"style\":\"light\"},\"paper_bgcolor\":\"white\",\"plot_bgcolor\":\"white\",\"polar\":{\"angularaxis\":{\"gridcolor\":\"#EBF0F8\",\"linecolor\":\"#EBF0F8\",\"ticks\":\"\"},\"bgcolor\":\"white\",\"radialaxis\":{\"gridcolor\":\"#EBF0F8\",\"linecolor\":\"#EBF0F8\",\"ticks\":\"\"}},\"scene\":{\"xaxis\":{\"backgroundcolor\":\"white\",\"gridcolor\":\"#DFE8F3\",\"gridwidth\":2,\"linecolor\":\"#EBF0F8\",\"showbackground\":true,\"ticks\":\"\",\"zerolinecolor\":\"#EBF0F8\"},\"yaxis\":{\"backgroundcolor\":\"white\",\"gridcolor\":\"#DFE8F3\",\"gridwidth\":2,\"linecolor\":\"#EBF0F8\",\"showbackground\":true,\"ticks\":\"\",\"zerolinecolor\":\"#EBF0F8\"},\"zaxis\":{\"backgroundcolor\":\"white\",\"gridcolor\":\"#DFE8F3\",\"gridwidth\":2,\"linecolor\":\"#EBF0F8\",\"showbackground\":true,\"ticks\":\"\",\"zerolinecolor\":\"#EBF0F8\"}},\"shapedefaults\":{\"line\":{\"color\":\"#2a3f5f\"}},\"ternary\":{\"aaxis\":{\"gridcolor\":\"#DFE8F3\",\"linecolor\":\"#A2B1C6\",\"ticks\":\"\"},\"baxis\":{\"gridcolor\":\"#DFE8F3\",\"linecolor\":\"#A2B1C6\",\"ticks\":\"\"},\"bgcolor\":\"white\",\"caxis\":{\"gridcolor\":\"#DFE8F3\",\"linecolor\":\"#A2B1C6\",\"ticks\":\"\"}},\"title\":{\"x\":0.05},\"xaxis\":{\"automargin\":true,\"gridcolor\":\"#EBF0F8\",\"linecolor\":\"#EBF0F8\",\"ticks\":\"\",\"title\":{\"standoff\":15},\"zerolinecolor\":\"#EBF0F8\",\"zerolinewidth\":2},\"yaxis\":{\"automargin\":true,\"gridcolor\":\"#EBF0F8\",\"linecolor\":\"#EBF0F8\",\"ticks\":\"\",\"title\":{\"standoff\":15},\"zerolinecolor\":\"#EBF0F8\",\"zerolinewidth\":2}}},\"xaxis\":{\"anchor\":\"y\",\"domain\":[0.0,0.175],\"showgrid\":true},\"yaxis\":{\"anchor\":\"x\",\"domain\":[0.0,1.0],\"showgrid\":true},\"xaxis2\":{\"anchor\":\"y2\",\"domain\":[0.275,0.45],\"showgrid\":true},\"yaxis2\":{\"anchor\":\"x2\",\"domain\":[0.0,1.0],\"showgrid\":true},\"xaxis3\":{\"anchor\":\"y3\",\"domain\":[0.55,0.7250000000000001],\"showgrid\":true},\"yaxis3\":{\"anchor\":\"x3\",\"domain\":[0.0,1.0],\"showgrid\":true},\"xaxis4\":{\"anchor\":\"y4\",\"domain\":[0.825,1.0],\"showgrid\":true},\"yaxis4\":{\"anchor\":\"x4\",\"domain\":[0.0,1.0],\"showgrid\":true},\"annotations\":[{\"font\":{\"size\":16},\"showarrow\":false,\"text\":\"Topic 0\",\"x\":0.0875,\"xanchor\":\"center\",\"xref\":\"paper\",\"y\":1.0,\"yanchor\":\"bottom\",\"yref\":\"paper\"},{\"font\":{\"size\":16},\"showarrow\":false,\"text\":\"Topic 1\",\"x\":0.36250000000000004,\"xanchor\":\"center\",\"xref\":\"paper\",\"y\":1.0,\"yanchor\":\"bottom\",\"yref\":\"paper\"}],\"title\":{\"font\":{\"size\":22,\"color\":\"Black\"},\"text\":\"Topic Word Scores\",\"x\":0.5,\"xanchor\":\"center\",\"yanchor\":\"top\"},\"hoverlabel\":{\"font\":{\"size\":16,\"family\":\"Rockwell\"},\"bgcolor\":\"white\"},\"showlegend\":false,\"width\":1000,\"height\":325.0},                        {\"responsive\": true}                    ).then(function(){\n",
              "                            \n",
              "var gd = document.getElementById('73419f96-9079-4716-ae30-d35565a9dc4d');\n",
              "var x = new MutationObserver(function (mutations, observer) {{\n",
              "        var display = window.getComputedStyle(gd).display;\n",
              "        if (!display || display === 'none') {{\n",
              "            console.log([gd, 'removed!']);\n",
              "            Plotly.purge(gd);\n",
              "            observer.disconnect();\n",
              "        }}\n",
              "}});\n",
              "\n",
              "// Listen for the removal of the full notebook cells\n",
              "var notebookContainer = gd.closest('#notebook-container');\n",
              "if (notebookContainer) {{\n",
              "    x.observe(notebookContainer, {childList: true});\n",
              "}}\n",
              "\n",
              "// Listen for the clearing of the current output cell\n",
              "var outputEl = gd.closest('.output');\n",
              "if (outputEl) {{\n",
              "    x.observe(outputEl, {childList: true});\n",
              "}}\n",
              "\n",
              "                        })                };                            </script>        </div>\n",
              "</body>\n",
              "</html>"
            ]
          },
          "metadata": {}
        }
      ]
    },
    {
      "cell_type": "code",
      "source": [
        "# not currently working b/c sample size is too small\n",
        "#fig= topic_model.visualize_topics()\n",
        "#fig.write_html(\"topics_LLM.html\")\n",
        "#fig"
      ],
      "metadata": {
        "id": "oWFa1R643Cgw"
      },
      "execution_count": 20,
      "outputs": []
    },
    {
      "cell_type": "code",
      "source": [
        "topic_model.visualize_heatmap(height=1000,width=1000)"
      ],
      "metadata": {
        "colab": {
          "base_uri": "https://localhost:8080/",
          "height": 1000
        },
        "id": "j58Xu1kD3P9f",
        "outputId": "aeaaf483-ef23-4de9-b457-ed4648be3952"
      },
      "execution_count": 21,
      "outputs": [
        {
          "output_type": "display_data",
          "data": {
            "text/html": [
              "<html>\n",
              "<head><meta charset=\"utf-8\" /></head>\n",
              "<body>\n",
              "    <div>            <script src=\"https://cdnjs.cloudflare.com/ajax/libs/mathjax/2.7.5/MathJax.js?config=TeX-AMS-MML_SVG\"></script><script type=\"text/javascript\">if (window.MathJax && window.MathJax.Hub && window.MathJax.Hub.Config) {window.MathJax.Hub.Config({SVG: {font: \"STIX-Web\"}});}</script>                <script type=\"text/javascript\">window.PlotlyConfig = {MathJaxConfig: 'local'};</script>\n",
              "        <script charset=\"utf-8\" src=\"https://cdn.plot.ly/plotly-2.24.1.min.js\"></script>                <div id=\"4e5d9f5f-2115-44f4-8eca-f0d7bbc50423\" class=\"plotly-graph-div\" style=\"height:1000px; width:1000px;\"></div>            <script type=\"text/javascript\">                                    window.PLOTLYENV=window.PLOTLYENV || {};                                    if (document.getElementById(\"4e5d9f5f-2115-44f4-8eca-f0d7bbc50423\")) {                    Plotly.newPlot(                        \"4e5d9f5f-2115-44f4-8eca-f0d7bbc50423\",                        [{\"coloraxis\":\"coloraxis\",\"name\":\"0\",\"x\":[\"0_kb_surface_look\",\"1_rhino_rs_object\"],\"y\":[\"0_kb_surface_look\",\"1_rhino_rs_object\"],\"z\":[[0.9999998807907104,0.49609145522117615],[0.49609145522117615,0.9999998211860657]],\"type\":\"heatmap\",\"xaxis\":\"x\",\"yaxis\":\"y\",\"hovertemplate\":\"x: %{x}\\u003cbr\\u003ey: %{y}\\u003cbr\\u003eSimilarity Score: %{z}\\u003cextra\\u003e\\u003c\\u002fextra\\u003e\"}],                        {\"template\":{\"data\":{\"histogram2dcontour\":[{\"type\":\"histogram2dcontour\",\"colorbar\":{\"outlinewidth\":0,\"ticks\":\"\"},\"colorscale\":[[0.0,\"#0d0887\"],[0.1111111111111111,\"#46039f\"],[0.2222222222222222,\"#7201a8\"],[0.3333333333333333,\"#9c179e\"],[0.4444444444444444,\"#bd3786\"],[0.5555555555555556,\"#d8576b\"],[0.6666666666666666,\"#ed7953\"],[0.7777777777777778,\"#fb9f3a\"],[0.8888888888888888,\"#fdca26\"],[1.0,\"#f0f921\"]]}],\"choropleth\":[{\"type\":\"choropleth\",\"colorbar\":{\"outlinewidth\":0,\"ticks\":\"\"}}],\"histogram2d\":[{\"type\":\"histogram2d\",\"colorbar\":{\"outlinewidth\":0,\"ticks\":\"\"},\"colorscale\":[[0.0,\"#0d0887\"],[0.1111111111111111,\"#46039f\"],[0.2222222222222222,\"#7201a8\"],[0.3333333333333333,\"#9c179e\"],[0.4444444444444444,\"#bd3786\"],[0.5555555555555556,\"#d8576b\"],[0.6666666666666666,\"#ed7953\"],[0.7777777777777778,\"#fb9f3a\"],[0.8888888888888888,\"#fdca26\"],[1.0,\"#f0f921\"]]}],\"heatmap\":[{\"type\":\"heatmap\",\"colorbar\":{\"outlinewidth\":0,\"ticks\":\"\"},\"colorscale\":[[0.0,\"#0d0887\"],[0.1111111111111111,\"#46039f\"],[0.2222222222222222,\"#7201a8\"],[0.3333333333333333,\"#9c179e\"],[0.4444444444444444,\"#bd3786\"],[0.5555555555555556,\"#d8576b\"],[0.6666666666666666,\"#ed7953\"],[0.7777777777777778,\"#fb9f3a\"],[0.8888888888888888,\"#fdca26\"],[1.0,\"#f0f921\"]]}],\"heatmapgl\":[{\"type\":\"heatmapgl\",\"colorbar\":{\"outlinewidth\":0,\"ticks\":\"\"},\"colorscale\":[[0.0,\"#0d0887\"],[0.1111111111111111,\"#46039f\"],[0.2222222222222222,\"#7201a8\"],[0.3333333333333333,\"#9c179e\"],[0.4444444444444444,\"#bd3786\"],[0.5555555555555556,\"#d8576b\"],[0.6666666666666666,\"#ed7953\"],[0.7777777777777778,\"#fb9f3a\"],[0.8888888888888888,\"#fdca26\"],[1.0,\"#f0f921\"]]}],\"contourcarpet\":[{\"type\":\"contourcarpet\",\"colorbar\":{\"outlinewidth\":0,\"ticks\":\"\"}}],\"contour\":[{\"type\":\"contour\",\"colorbar\":{\"outlinewidth\":0,\"ticks\":\"\"},\"colorscale\":[[0.0,\"#0d0887\"],[0.1111111111111111,\"#46039f\"],[0.2222222222222222,\"#7201a8\"],[0.3333333333333333,\"#9c179e\"],[0.4444444444444444,\"#bd3786\"],[0.5555555555555556,\"#d8576b\"],[0.6666666666666666,\"#ed7953\"],[0.7777777777777778,\"#fb9f3a\"],[0.8888888888888888,\"#fdca26\"],[1.0,\"#f0f921\"]]}],\"surface\":[{\"type\":\"surface\",\"colorbar\":{\"outlinewidth\":0,\"ticks\":\"\"},\"colorscale\":[[0.0,\"#0d0887\"],[0.1111111111111111,\"#46039f\"],[0.2222222222222222,\"#7201a8\"],[0.3333333333333333,\"#9c179e\"],[0.4444444444444444,\"#bd3786\"],[0.5555555555555556,\"#d8576b\"],[0.6666666666666666,\"#ed7953\"],[0.7777777777777778,\"#fb9f3a\"],[0.8888888888888888,\"#fdca26\"],[1.0,\"#f0f921\"]]}],\"mesh3d\":[{\"type\":\"mesh3d\",\"colorbar\":{\"outlinewidth\":0,\"ticks\":\"\"}}],\"scatter\":[{\"fillpattern\":{\"fillmode\":\"overlay\",\"size\":10,\"solidity\":0.2},\"type\":\"scatter\"}],\"parcoords\":[{\"type\":\"parcoords\",\"line\":{\"colorbar\":{\"outlinewidth\":0,\"ticks\":\"\"}}}],\"scatterpolargl\":[{\"type\":\"scatterpolargl\",\"marker\":{\"colorbar\":{\"outlinewidth\":0,\"ticks\":\"\"}}}],\"bar\":[{\"error_x\":{\"color\":\"#2a3f5f\"},\"error_y\":{\"color\":\"#2a3f5f\"},\"marker\":{\"line\":{\"color\":\"#E5ECF6\",\"width\":0.5},\"pattern\":{\"fillmode\":\"overlay\",\"size\":10,\"solidity\":0.2}},\"type\":\"bar\"}],\"scattergeo\":[{\"type\":\"scattergeo\",\"marker\":{\"colorbar\":{\"outlinewidth\":0,\"ticks\":\"\"}}}],\"scatterpolar\":[{\"type\":\"scatterpolar\",\"marker\":{\"colorbar\":{\"outlinewidth\":0,\"ticks\":\"\"}}}],\"histogram\":[{\"marker\":{\"pattern\":{\"fillmode\":\"overlay\",\"size\":10,\"solidity\":0.2}},\"type\":\"histogram\"}],\"scattergl\":[{\"type\":\"scattergl\",\"marker\":{\"colorbar\":{\"outlinewidth\":0,\"ticks\":\"\"}}}],\"scatter3d\":[{\"type\":\"scatter3d\",\"line\":{\"colorbar\":{\"outlinewidth\":0,\"ticks\":\"\"}},\"marker\":{\"colorbar\":{\"outlinewidth\":0,\"ticks\":\"\"}}}],\"scattermapbox\":[{\"type\":\"scattermapbox\",\"marker\":{\"colorbar\":{\"outlinewidth\":0,\"ticks\":\"\"}}}],\"scatterternary\":[{\"type\":\"scatterternary\",\"marker\":{\"colorbar\":{\"outlinewidth\":0,\"ticks\":\"\"}}}],\"scattercarpet\":[{\"type\":\"scattercarpet\",\"marker\":{\"colorbar\":{\"outlinewidth\":0,\"ticks\":\"\"}}}],\"carpet\":[{\"aaxis\":{\"endlinecolor\":\"#2a3f5f\",\"gridcolor\":\"white\",\"linecolor\":\"white\",\"minorgridcolor\":\"white\",\"startlinecolor\":\"#2a3f5f\"},\"baxis\":{\"endlinecolor\":\"#2a3f5f\",\"gridcolor\":\"white\",\"linecolor\":\"white\",\"minorgridcolor\":\"white\",\"startlinecolor\":\"#2a3f5f\"},\"type\":\"carpet\"}],\"table\":[{\"cells\":{\"fill\":{\"color\":\"#EBF0F8\"},\"line\":{\"color\":\"white\"}},\"header\":{\"fill\":{\"color\":\"#C8D4E3\"},\"line\":{\"color\":\"white\"}},\"type\":\"table\"}],\"barpolar\":[{\"marker\":{\"line\":{\"color\":\"#E5ECF6\",\"width\":0.5},\"pattern\":{\"fillmode\":\"overlay\",\"size\":10,\"solidity\":0.2}},\"type\":\"barpolar\"}],\"pie\":[{\"automargin\":true,\"type\":\"pie\"}]},\"layout\":{\"autotypenumbers\":\"strict\",\"colorway\":[\"#636efa\",\"#EF553B\",\"#00cc96\",\"#ab63fa\",\"#FFA15A\",\"#19d3f3\",\"#FF6692\",\"#B6E880\",\"#FF97FF\",\"#FECB52\"],\"font\":{\"color\":\"#2a3f5f\"},\"hovermode\":\"closest\",\"hoverlabel\":{\"align\":\"left\"},\"paper_bgcolor\":\"white\",\"plot_bgcolor\":\"#E5ECF6\",\"polar\":{\"bgcolor\":\"#E5ECF6\",\"angularaxis\":{\"gridcolor\":\"white\",\"linecolor\":\"white\",\"ticks\":\"\"},\"radialaxis\":{\"gridcolor\":\"white\",\"linecolor\":\"white\",\"ticks\":\"\"}},\"ternary\":{\"bgcolor\":\"#E5ECF6\",\"aaxis\":{\"gridcolor\":\"white\",\"linecolor\":\"white\",\"ticks\":\"\"},\"baxis\":{\"gridcolor\":\"white\",\"linecolor\":\"white\",\"ticks\":\"\"},\"caxis\":{\"gridcolor\":\"white\",\"linecolor\":\"white\",\"ticks\":\"\"}},\"coloraxis\":{\"colorbar\":{\"outlinewidth\":0,\"ticks\":\"\"}},\"colorscale\":{\"sequential\":[[0.0,\"#0d0887\"],[0.1111111111111111,\"#46039f\"],[0.2222222222222222,\"#7201a8\"],[0.3333333333333333,\"#9c179e\"],[0.4444444444444444,\"#bd3786\"],[0.5555555555555556,\"#d8576b\"],[0.6666666666666666,\"#ed7953\"],[0.7777777777777778,\"#fb9f3a\"],[0.8888888888888888,\"#fdca26\"],[1.0,\"#f0f921\"]],\"sequentialminus\":[[0.0,\"#0d0887\"],[0.1111111111111111,\"#46039f\"],[0.2222222222222222,\"#7201a8\"],[0.3333333333333333,\"#9c179e\"],[0.4444444444444444,\"#bd3786\"],[0.5555555555555556,\"#d8576b\"],[0.6666666666666666,\"#ed7953\"],[0.7777777777777778,\"#fb9f3a\"],[0.8888888888888888,\"#fdca26\"],[1.0,\"#f0f921\"]],\"diverging\":[[0,\"#8e0152\"],[0.1,\"#c51b7d\"],[0.2,\"#de77ae\"],[0.3,\"#f1b6da\"],[0.4,\"#fde0ef\"],[0.5,\"#f7f7f7\"],[0.6,\"#e6f5d0\"],[0.7,\"#b8e186\"],[0.8,\"#7fbc41\"],[0.9,\"#4d9221\"],[1,\"#276419\"]]},\"xaxis\":{\"gridcolor\":\"white\",\"linecolor\":\"white\",\"ticks\":\"\",\"title\":{\"standoff\":15},\"zerolinecolor\":\"white\",\"automargin\":true,\"zerolinewidth\":2},\"yaxis\":{\"gridcolor\":\"white\",\"linecolor\":\"white\",\"ticks\":\"\",\"title\":{\"standoff\":15},\"zerolinecolor\":\"white\",\"automargin\":true,\"zerolinewidth\":2},\"scene\":{\"xaxis\":{\"backgroundcolor\":\"#E5ECF6\",\"gridcolor\":\"white\",\"linecolor\":\"white\",\"showbackground\":true,\"ticks\":\"\",\"zerolinecolor\":\"white\",\"gridwidth\":2},\"yaxis\":{\"backgroundcolor\":\"#E5ECF6\",\"gridcolor\":\"white\",\"linecolor\":\"white\",\"showbackground\":true,\"ticks\":\"\",\"zerolinecolor\":\"white\",\"gridwidth\":2},\"zaxis\":{\"backgroundcolor\":\"#E5ECF6\",\"gridcolor\":\"white\",\"linecolor\":\"white\",\"showbackground\":true,\"ticks\":\"\",\"zerolinecolor\":\"white\",\"gridwidth\":2}},\"shapedefaults\":{\"line\":{\"color\":\"#2a3f5f\"}},\"annotationdefaults\":{\"arrowcolor\":\"#2a3f5f\",\"arrowhead\":0,\"arrowwidth\":1},\"geo\":{\"bgcolor\":\"white\",\"landcolor\":\"#E5ECF6\",\"subunitcolor\":\"white\",\"showland\":true,\"showlakes\":true,\"lakecolor\":\"white\"},\"title\":{\"x\":0.05},\"mapbox\":{\"style\":\"light\"}}},\"xaxis\":{\"anchor\":\"y\",\"domain\":[0.0,1.0],\"scaleanchor\":\"y\",\"constrain\":\"domain\"},\"yaxis\":{\"anchor\":\"x\",\"domain\":[0.0,1.0],\"autorange\":\"reversed\",\"constrain\":\"domain\"},\"coloraxis\":{\"colorbar\":{\"title\":{\"text\":\"Similarity Score\"}},\"colorscale\":[[0.0,\"rgb(247,252,240)\"],[0.125,\"rgb(224,243,219)\"],[0.25,\"rgb(204,235,197)\"],[0.375,\"rgb(168,221,181)\"],[0.5,\"rgb(123,204,196)\"],[0.625,\"rgb(78,179,211)\"],[0.75,\"rgb(43,140,190)\"],[0.875,\"rgb(8,104,172)\"],[1.0,\"rgb(8,64,129)\"]]},\"margin\":{\"t\":60},\"title\":{\"font\":{\"size\":22,\"color\":\"Black\"},\"text\":\"\\u003cb\\u003eSimilarity Matrix\\u003c\\u002fb\\u003e\",\"y\":0.95,\"x\":0.55,\"xanchor\":\"center\",\"yanchor\":\"top\"},\"hoverlabel\":{\"font\":{\"size\":16,\"family\":\"Rockwell\"},\"bgcolor\":\"white\"},\"width\":1000,\"height\":1000,\"showlegend\":true,\"legend\":{\"title\":{\"text\":\"Trend\"}}},                        {\"responsive\": true}                    ).then(function(){\n",
              "                            \n",
              "var gd = document.getElementById('4e5d9f5f-2115-44f4-8eca-f0d7bbc50423');\n",
              "var x = new MutationObserver(function (mutations, observer) {{\n",
              "        var display = window.getComputedStyle(gd).display;\n",
              "        if (!display || display === 'none') {{\n",
              "            console.log([gd, 'removed!']);\n",
              "            Plotly.purge(gd);\n",
              "            observer.disconnect();\n",
              "        }}\n",
              "}});\n",
              "\n",
              "// Listen for the removal of the full notebook cells\n",
              "var notebookContainer = gd.closest('#notebook-container');\n",
              "if (notebookContainer) {{\n",
              "    x.observe(notebookContainer, {childList: true});\n",
              "}}\n",
              "\n",
              "// Listen for the clearing of the current output cell\n",
              "var outputEl = gd.closest('.output');\n",
              "if (outputEl) {{\n",
              "    x.observe(outputEl, {childList: true});\n",
              "}}\n",
              "\n",
              "                        })                };                            </script>        </div>\n",
              "</body>\n",
              "</html>"
            ]
          },
          "metadata": {}
        }
      ]
    },
    {
      "cell_type": "code",
      "source": [
        "# Marteen suggests reducing dimensionality of embeddings, this step is optional but much faster to perform iteratively:\n",
        "reduced_embeddings = UMAP(n_neighbors=10, n_components=2, min_dist=0.0, metric='cosine').fit_transform(embeddings)\n",
        "fig = topic_model.visualize_documents(tokenized_dataset, reduced_embeddings=reduced_embeddings,height=1200,width=1800)\n",
        "fig.write_html(\"document_view.html\")\n",
        "fig"
      ],
      "metadata": {
        "colab": {
          "base_uri": "https://localhost:8080/",
          "height": 1000
        },
        "id": "zuhVYjLw3nTQ",
        "outputId": "ef7d3beb-2f8c-4275-8733-93a1b567a6ff"
      },
      "execution_count": 22,
      "outputs": [
        {
          "output_type": "display_data",
          "data": {
            "text/html": [
              "<html>\n",
              "<head><meta charset=\"utf-8\" /></head>\n",
              "<body>\n",
              "    <div>            <script src=\"https://cdnjs.cloudflare.com/ajax/libs/mathjax/2.7.5/MathJax.js?config=TeX-AMS-MML_SVG\"></script><script type=\"text/javascript\">if (window.MathJax && window.MathJax.Hub && window.MathJax.Hub.Config) {window.MathJax.Hub.Config({SVG: {font: \"STIX-Web\"}});}</script>                <script type=\"text/javascript\">window.PlotlyConfig = {MathJaxConfig: 'local'};</script>\n",
              "        <script charset=\"utf-8\" src=\"https://cdn.plot.ly/plotly-2.24.1.min.js\"></script>                <div id=\"9398a245-6eae-42b3-a17d-8a092395da60\" class=\"plotly-graph-div\" style=\"height:1200px; width:1800px;\"></div>            <script type=\"text/javascript\">                                    window.PLOTLYENV=window.PLOTLYENV || {};                                    if (document.getElementById(\"9398a245-6eae-42b3-a17d-8a092395da60\")) {                    Plotly.newPlot(                        \"9398a245-6eae-42b3-a17d-8a092395da60\",                        [{\"hoverinfo\":\"text\",\"hovertext\":[\"     jlgrobe   origin far away coordinate system indicate relate    yes especially raytraced render mode draw look like broken geometry      jlgrobe   rework origin lose ability reference shp coordinate place    review https:\\u002f\\u002fwiki.mcneel.com\\u002frhino\\u002ffarfromorigin \\u002fnathan\",\"update close turn bee relate parallel computing set couple intersection component turn solve issue\",\"thank reply mr. pryor\",\"     jess   maybe script display conduit similar dir command    totally wrong dream comfy way curve end case script aha find  \",\"     modeler3d   know case point understand logic connection talk exclude point    mean edge select coincident n point n valence\",\"generally greet post sign track useful ahead join curve check marktangentdiscontinuities.py 916 bytes @rhino_bulgaria add grouping download use python script use runpythonscript   macro -runpythonscript path py file inside double quote -pascal\",\"yes platform module            stackoverflow.com                          tell python implementation       python cpython       ask            stuart berg       10:22pm 05 feb 13 utc                          \",\"certainly code grasshopper softmove.gh 17.5 kb   softmove1212\\u00d7824 284 kb\",\"pass path sub layer name order rs layerid work mcneel add clarification documentation method thank advance\",\"probably enable custom conduit time increase scene bound box include geometry\",\"find issue geometry function code try like tolerance document document actually exist function bail recently find curve offset function fix issue problem function call repeat problem\",\"sorry read enable dimension history enable default turn run history command set recordannotationhistory option\",\"hey @farah hope look   screen shot 2019 03 07 20.45.01.png772\\u00d7689 16.4 kb   sure gaussian curvature correctly calculate demonstrate friendly neighbourhood vertex certain vertex construct necessary vector compute vector angle fourth import rhino geometry rg import grasshopper gh import math import clr import os   path plankton library need change setup plankton_dll_path = os.path.join(gh folder defaultassemblyfolder plankton.dll plankton_gha_path = os.path.join(gh folder defaultassemblyfolder plankton.gha    clr addreferencetofileandpath(plankton_dll_path halfedge mesh data structure clr addreferencetofileandpath(plankton_gha_path gh component helper method   import plankton import planktongh   clr importextensions(planktongh rhinosupport extension method e.g. rg mesh toplantonmesh    convert input mesh plankton planktonmesh object plt_mesh = x. toplanktonmesh   gaussian curvature vertex gaussian_curvature =   k range(plt_mesh vertex count      current vertex point      curr_vtx = plt_mesh vertices[k].topoint3d       index vertex neighbour      nb_indice = plt_mesh vertex getvertexneighbours(k      vertex neighbour point      neighbour = plt_mesh vertices[i nb_indices      valence = plt_mesh vertex getvalence(k      t = 2 math.pi       contruct vector current vector neighbour      vec = v. topoint3d curr_vtx v neighbour      range(len(vec          calculate angle radian vector pair          angle = rg vector3d vectorangle(vecs[i vecs[(i + 1 valence          subtract rangle radian vector pair t          t -= angle      save t gaussian curvature current vertex      gaussian_curvatures.append(t   output = gaussian_curvature   get previously wrong let explain + 1 valence work let assume current vertex 3 neighbour mean valence 3 furthermore need calculate 3 vector current vertex 3 neighbouring vertex store list 3 vector need calculate 4 vector angle vector list vector angle vector loop vector list vector index 2 corresponding vector index 0 list simply calculate index formula 2 + 1 3 equal 0 get desire vector iteration formula produce right index 0 + 1 3 = 1 1 + 1 3 = 2 etc basically simply calculate + 1 work vector 2 + 1 equal 3 vector index 3 list gaussian_curvature_v1.gh 7.5 kb\",\"omg forget dog joke look great\",\"     balderrama.josue.mac   possible use anchor point rotate depend distance base geometry anchor point    possible   method http:\\u002f\\u002fdreaming983.rssing.com\\u002fchan-47415175\\u002fall_p2.html#item21\",\"     joshd   hi @dancergraham thank idea   not know m misunderstand suggestion clear goal   m try run python script button macro language available button believe   not think import etc    possible little convoluted head fully previously   get work sample file hellopython.py folder call test home directory follow line button -_runpythonscript import os;import imp;homepath = os.path.expanduser('~');my_path = r'test\\\\hellopython.py';imp.load_source('hellopython os.path.join(homepath my_path run hellopython file\",\"turn display adapter driver need update accord windows driver date go manufacturer website turn fact date thank help appreciated\",\"solve   ignore value pop window set 0 reset non zero value pointdeviation work properly check ignore value large value\",\"hi @sieman import grasshopper namespace python access asume know find document component gh component object access persistent datum e.g. brep component brep assign user rhino object ids like component_obj persistentdatacount gt 0      datum component_obj persistentdata           hasattr(data referenceid              print objectid datum referenceid   c.\",\"thing improve load protect disable 3d connexion plug restart rhino\",\"use link https:\\u002f\\u002fdiscourse.mcneel.com\\u002ftags\\u002fservice-release\",\"hi late c script use external value main runscript method work iteration code explain well small example point vector value double    nanogame.gh 9.3 kb iteration restart runscript point move vector value keep iteration code private void runscript(bool bool reset ref object ref object b         if(reset reset value user toggle reset        position = new rhino geometry point3d(0 0 0        direction = new rhino geometry vector3d(0 1 0        inertia = new rhino geometry vector3d(0 0 0        rotation = 0           detect modifier key      string modifier = system window form control modifierkeys tostring      string case1 = shift      string case2 = control      string case3 = alt      string case4 = shift control      string case5 = shift alt      string case6 = shift control alt      bool frictionactive = system window form control iskeylocked(system window form keys numlock       if(modifi = = case1 || modifier = = case4 || modifier = = case5 || modifier = = case6        accellerate           if(modifier = = case2 || modifier = = case4        turn(\\\"left           if(modifier = = case3 || modifier = = case5        turn(\\\"right            apply_forces       if(frictionactive        apply_friction            = position      b = direction      if(on)this component expiresolution(true runscript method restart        lt;custom additional code&gt     object change runscript restart    public rhino geometry point3d position    public rhino geometry vector3d direction    public rhino geometry vector3d inertia    public double rotation \\u002f\\u002fthis rotate momentum     public void accellerate add direction vector inertia vector simulate thrust      double val = 0.01      inertia + = direction val      print(\\\"acc       public void turn(string dir      double val = 0.003      if(dir = = leave        rotation + = val        print(\\\"left           if(dir = = right        rotation -= val        print(\\\"right            public void apply_force      direction rotate(rotation rhino geometry vector3d zaxis      position transform(rhino geometry transform translation(inertia       public void apply_friction      inertia = 0.97      rotation = 0.95      hope help\",\"rh-51591 fix late rhino 7.8 service release candidate\",\"try sift component provide destination output individual value\",\"hi look like error update component old previous v6 sr   value take 1 multiplication.gh 7.0 kb version 6 sr13 6.13.19058.371 02\\u002f27\\u002f2019   image.png1097\\u00d7364 34.3 kb\",\"pretty sure add t trigger input listener zui\",\"think look gh_rhinoscriptinterface iseditorloade import rhinoscriptsyntax rs gh = rs getpluginobject(\\\"grasshopper gh iseditorloaded      print grasshoppper load      print grasshopper load   siemen.py 177 bytes\",\"use file thread know problem new sweep 2 grasshopper.3 dm 108.0 kb\",\"possible flowalongsrf set surface carefully carefully example create flat ellipsoid surface wiht procedure railrevolve   case flat surface revolve line ellipoid revolve ellipse quadrant   rail case ellipse   way structure surface correspond seam use flowalongsrf base surface flat surface target ellipsoid surface   sure set   autoadjust rhino try guess surface correspond wrong 99 time click area base target surface correspond flowpts_ellipsoid.3 dm 406.7 kb\",\"pretty sure come fact people prefer = = obj order guard typo = obj typo compile error assign good notice immediately obj = c++ compile bug unnoticed btw like = = obj read brain get confused   -david\",\"solve problem not datatree&gt ha use 1 datatree play dh_path\",\"     stevebaer   bump minimum thickness    issue solve ok finally v6 earnest play motivate look solution visual annoyance flaw externally   apologize annoying   realize scope limit small number rig solve rig issue macpro6,1 32 4 k display   peculiar v5 v6 rhino display mode os display setting care @stevebaer suggest simply need bump display mode wireframe curve isocurve default 1 change 2 2s e.g. surface edge 3s   bingo fwiw 32 4k set scaled display sys pref middle setting look like 3008 x 1692   set default display 3480 x 2160 help significantly display mode set 1 general re 5 k imacs issue default display mode scale display resolution 1 setting\",\"hi bobi start test curve time right thing setbackfillet.py 5.4 kb @rhino_bulgaria update handle multiple curve use python script use runpythonscript   macro -runpythonscript path py file inside double quote -pascal\",\"end solve include sdv.concat.min.js plugin footer load parametric viewer page load snippet https:\\u002f\\u002fviewer.shapediver.com\\u002fv2\\u002f2.5.0\\u002fdoc\\u002fusage.html hope help run issue\",\"text file input work json need store json object text file extension .txt sure file import text grasshopper try parse string shapediverjsonparse component problem persist post detail error get datum try json file right click gt save link test work fine definition\",\"hi specific file general question general answer reason object type support dxf file format export scheme object bad way specific case example answer thread\",\"thank mohamad happy new grasshopper amazing opportunity study definition\",\"thank explain install public sr13 release candidate fix rhino options gt updates statistics gt update frequency change setting notify new src build\",\"sove b brep start start point curve end end point curve tol tolerance start_close_check = closest_point(b start tol)[0 end_close_check = closest_point(b end tol)[0 start_point_check = point_check(b start tol true end_point_check = point_check(b end tol true               start_close_check = = true end_point_check = = false end_close_check = = true start_point_check = = false print touch outside elif start_close_check = = true end_point_check = = true end_close_check = = true start_point_check = = true print touch inside\",null],\"marker\":{\"color\":\"#CFD8DC\",\"opacity\":0.5,\"size\":5},\"mode\":\"markers+text\",\"name\":\"other\",\"showlegend\":false,\"x\":[5.9450483322143555,5.152376174926758,5.643735885620117,5.076550006866455,4.861294269561768,5.288354873657227,5.048450946807861,4.06622314453125,6.0042877197265625,4.857402801513672,4.823509216308594,5.658010482788086,6.409768104553223,5.9720258712768555,6.436091423034668,5.111797332763672,5.018932342529297,5.0368733406066895,7.054492473602295,6.038240432739258,6.0623273849487305,7.0570573806762695,6.1454267501831055,5.226343154907227,5.079990386962891,6.925387382507324,7.090432167053223,4.666794300079346,5.214757919311523,7.217440128326416,5.57520866394043,5.647502422332764,5.207360744476318,3.5329723358154297,3.5130598545074463,3.4760587215423584,5.79157829284668,6.206433296203613,4.673638820648193,5.482391357421875],\"y\":[4.128261089324951,5.0708842277526855,6.407029628753662,3.2096567153930664,4.560792446136475,2.8700814247131348,2.768754482269287,6.376276016235352,2.5959441661834717,3.6093337535858154,5.085383415222168,4.948603630065918,4.4422407150268555,6.257664203643799,3.7579233646392822,2.7011966705322266,5.710464000701904,5.211103439331055,4.976424217224121,5.073408126831055,5.657819747924805,3.934730291366577,5.264153003692627,3.819775104522705,5.81198263168335,3.853322744369507,5.050929546356201,6.6132330894470215,4.188838005065918,4.317878723144531,3.021152973175049,4.460470199584961,2.7865898609161377,3.7733817100524902,3.6883223056793213,3.717111587524414,6.443073749542236,5.191790580749512,4.755574703216553,4.51568078994751],\"type\":\"scattergl\"},{\"hoverinfo\":\"text\",\"hovertext\":[\"  canvas 11;33;51.png1462\\u00d7274 92.3 kb   brep breps_re.gh 19.8 kb\",\"use index 0   sd jpg939\\u00d7573 39.2 kb   cull index 0 clean tree   sd2.jpg962\\u00d7581 46.4 kb\",\"try wireframe component\",\"hi look like problem cause fact large radius fillet toaster model adjacent want apply new small radius fillet easy workaround situation     use extract surface extract 10 surface share edge want apply new radius fillet copy = option active select extraction choose isolate object temporarily surface hide rest one separate layer whichever prefer    lock 8 small surface moment lock object command copy large surface large radius fillet vertical surface paste piece join hide copy use shrink trimmed surface command shrink large surface visible boundary    use untrim tool click vertical hole middle large vertical surface fill    merge horizontal edge surface meet merge edge tool    combine surface merge surface tool sure set smooth = option    unlock 8 locked surface join    select merged surface click split icon pick 8 joined surface delete unnecessary surface vertical channel locate join 10 surface single polysurface    apply fillet 0,25 look good model    extract large merged surface delete new fillet 8 surface single polysurface    use unisolate rest object unhide hidden copy large vertical surface large radius fillet hide step 2 use split split new radius fillet    join usual    drink nice coffee tea     toaster 13 bg.3 dm 1.8 mb   toaster.png775\\u00d7758 96.3 kb\",\"false positive antivirus report able upload\",\"look like fix problem thank\",\"think rounding issue equal case example check 0 vs 0.00001   image.png1245\\u00d7338 30.7 kb\",\"quick look maybe help 1612_sine wave wall_2019.03.20_v2.gh 230.6 kb\",\"hello nick.n.roll solution check hope help greeting bumaye shell_help_re.gh 40.0 kb\",\"hi roi gh component update property find attach def space auto naming.gh 7.5 kb   autonaming%20spaces1347\\u00d7742 124 kb\",\"close evaluate surface require uv point xyz point need surface close point gap orient box plane object plane input box build directly frame component need orient component note want orient lot object set multiple plane look group component   image1875\\u00d7533 89.9 kb   surface normal_help_mg-edit.gh 23.5 kb\",\"test swap   want number include domain   image.png896\\u00d7400 35.6 kb\",\"well   image.png824\\u00d7684 57.2 kb   number pixel allow drag accidently work want\",\"need screen client client world\",\"james sorry forgot clean null datum ignore time iteration null datadouble loop fixed.gh 15.4 kb\",\"try use plane coordinatescomponent   canvas%20at%2019%3b45%3b331345\\u00d7743 120 kb   relativecoordinates_re.gh 15.0 kb\",\"hi check options blockedit plugin enable   image.png618\\u00d7537 35.9 kb\",\"curve close 5 curve   canvas 01;36;48.png1236\\u00d7424 76 kb   boundary surfaces_re.gh 13.2 kb\",\"work clean grid point try patch surface instead trim project boundary curve\",\"dear mathieu limit area ldist x ldist x 0.1 ldist input meshtoshell component good clemens\",\"  awdawd.png928\\u00d7607 65.1 kb\",\"hi current owner license(s remove account add team current owner click licenses account click license finally click remove cloud zoo team admin path license page choose team click add license add license remove let know stick process\",\"open file guess edge length get low tolerance setting kangaroo lead vertex getting merge try reduce tolerance 0.00001\",\"imagine slight bit difference rendering -pascal\",\"hi garry layout appear corrupt able thing look right   selall ctrl page 3 copytoclipboard ctrl c new layout paste ctrl v   file heap developer look https:\\u002f\\u002fmcneel.myjetbrains.com\\u002fyoutrack\\u002fissue\\u002frh-51111 thanks -pascal\",\"take liberty recreate brep line actually curve precisely symmetrical maybe like   canvas%20at%2021%3b35%3b571314\\u00d7760 212 kb   hexagonspiralquestion-b.gh 250.8 kb\",\"  principal.png714\\u00d7627 34 kb   unnamed_re1.gh 9.0 kb\",\"sure   like want   canvas%20at%2000%3b30%3b241419\\u00d7704 123 kb   script 10.0_re.gh 66.7 kb\",\"look point curve component point brep extrude brep closed brep inclusion test cull inside\",\"try cg.gh 8.6 kb\",\"use like streamfilter   paul.png788\\u00d7568 30.3 kb\",\"subdirectory directory   c:\\\\programdata\\\\mcneel\\\\mcneelupdate\\\\downloadcache\",\"like meshsplit_join_v1.gh 49.7 kb\",\"maybe joinbreps uncapped surface work well upload file geometry goal visualization fabrication   brep mesh instead\",\"hello @alex_8 look clear explanation   screen shot 2019 02 24 11.15.09.png1260\\u00d7655 95.3 kb   note need component lunchbox work dot indicate straight planar basis locate topo_v1.gh 34.8 kb\",\"like   encephalon say   image1396\\u00d7716 162 kb\",\"lol figure rs addbox(bbb\",\"look picture flatten input c. look gh primer learn das structure don\\u2018t link atm google\",\"hi @dsw attach basically gh componet cmdtestwolfgang.cpp 3.7 kb dale\",\"say right need polyline polyline use area component\",\"use human plugin   canvas%20at%2018%3b05%3b321473\\u00d7678 110 kb\",\"@sieman thread                   miss image thread meta            lot image miss old thread   system failure cleanup     \",\"  kangaroo_tensile_structure_tutorials_re1358\\u00d7736 130 kb   kangaroo_tensile_structure_tutorials_re.gh 17.7 kb\",\"hi @peterberg start update 2017 radeon driver write problem persist hth jakob\",\"polysurface mesh cube 1x1x1 mm offset 1 mm   2019 02 25 17_18_46 window.png575\\u00d7535 13.6 kb   mesh offset face vertex brep polysurface off offset face fix edge mesh offset move vertex average local normal x offset value bit well result increase face count mesh big flat face new vertex inside move offset correctly corner ugly\",\"understand use script kangaroo want create create solid pipe solid pipe.gh 7.0 kb   sp jpg1554\\u00d7529 52.2 kb\",\"need flip direction curve use sweep 1 2   sss2.jpg1207\\u00d7535 39.8 kb    sssss jpg634\\u00d7520 8.81 kb\",\"thing forget folder run yak spec contain .rhp .gha file .rhp inspect want package restore work .gha need sure package match gh_assemblyinfo replace secret.id guid run yak spec .rhp temporarily remove directory\",\"diagram explain try tho negative example provide minus original area 1500 remain offset strange shape know way calculate proper offset   2019 02 26%20(2)1568\\u00d7637 388 kb    11111154\\u00d7865 138 kb   26 feb 2019 area 4.gh 29.8 kb\",null],\"marker\":{\"opacity\":0.5,\"size\":5},\"mode\":\"markers+text\",\"name\":\"0_kb_surface_look\",\"text\":[\"\",\"\",\"\",\"\",\"\",\"\",\"\",\"\",\"\",\"\",\"\",\"\",\"\",\"\",\"\",\"\",\"\",\"\",\"\",\"\",\"\",\"\",\"\",\"\",\"\",\"\",\"\",\"\",\"\",\"\",\"\",\"\",\"\",\"\",\"\",\"\",\"\",\"\",\"\",\"\",\"\",\"\",\"\",\"\",\"\",\"\",\"\",\"\",\"\",\"0_kb_surface_look\"],\"textfont\":{\"size\":12},\"x\":[3.140641212463379,3.266927719116211,4.252140998840332,4.682328701019287,2.940965175628662,5.1349945068359375,2.8355042934417725,4.208227157592773,4.528717517852783,4.65199089050293,4.856166362762451,3.020312786102295,2.9322195053100586,4.190621376037598,4.593601226806641,3.483696222305298,2.804591655731201,3.628988027572632,4.208622455596924,4.961915016174316,3.333962917327881,5.880666732788086,3.699036121368408,2.868405818939209,5.174954891204834,3.8163681030273438,3.2001471519470215,3.2582638263702393,4.7041826248168945,4.101963996887207,3.142958164215088,4.066946983337402,3.9927878379821777,3.6766908168792725,4.331052303314209,3.2485241889953613,3.0276448726654053,4.246016025543213,4.17370080947876,4.1155195236206055,3.286344289779663,3.2935876846313477,3.6949007511138916,5.197370529174805,4.354623794555664,3.3584747314453125,3.8328964710235596,5.458465576171875,4.038216590881348,3.93669056892395],\"y\":[5.104946136474609,5.840437412261963,3.8168258666992188,4.12617301940918,6.154146671295166,6.320195198059082,5.7967047691345215,6.170007228851318,6.378974437713623,5.749326229095459,4.1254658699035645,6.071343898773193,6.032604694366455,3.740204334259033,6.295831203460693,4.768248081207275,6.084274768829346,4.873300552368164,4.351584434509277,3.9322872161865234,6.103096961975098,5.811464786529541,5.790995121002197,5.518216133117676,6.052004337310791,4.550569534301758,5.8800129890441895,4.9606146812438965,4.520263195037842,6.2722296714782715,5.802546977996826,6.61725378036499,5.862157821655273,4.495769023895264,5.364619731903076,5.929651737213135,4.694736957550049,5.28281831741333,6.312498569488525,4.068363666534424,4.638002872467041,6.36299991607666,5.860865592956543,6.037538528442383,4.584415912628174,5.5185322761535645,4.900586128234863,5.867851734161377,4.762998104095459,5.3909502029418945],\"type\":\"scattergl\"},{\"hoverinfo\":\"text\",\"hovertext\":[\"glad hear work\",\"yes normal shot osnap like alongline turn permanently select drawing command want use prompt point centre select alongline ask command line start end tracking line click ask start new line type distance want away start tracking line rhino place start point alongline osnap automatically disable\",\"go hazard guess object attribute level search probably time ok simple test create box box_one set user text box_one key searcht run follow script time million search object contain user string key searcht contain import rhinoscriptsyntax rs import scriptcontext sc import rhino time   objid = rs getobject object object box_one object user text box_one store key searcht search object user string contain   obj = rs.coercerhinoobject(objid fragment=\\\"one   st1 = time.time name_search_count=0 range(1000000      = obj attribute      fragment name_search_count+=1 print search time= find .format(time.time()-st1,name_search_count       st2 = time.time string_search_count=0 range(1000000      ustr = obj attributes getuserstring(\\\"searchtest      fragment ustr string_search_count+=1 print string search time= find .format(time.time()-st2,string_search_count   result search time=1.56773376465 find 1000000 string search time=1.72177001953 find 1000000 difference 0.2 second million search extremely significant imo\",\"give correct result sub_block_name = rs blockinstancename(sub_block_id\",\"small script 2 c ouputte font 424 output brep brep change mesh outside c surely difficult inside placement text sure plugin type work interesting remake script new rhino 6 object   image.png1123\\u00d7711 151 kb    text_curve_rhino6.gh 10.4 kb record https:\\u002f\\u002fdeveloper.rhino3d.com\\u002fapi\\u002frhinocommon\\u002fhtml\\u002ft_rhino_docobjects_font.htm https:\\u002f\\u002fdeveloper.rhino3d.com\\u002fapi\\u002frhinocommon\\u002fhtml\\u002ft_rhino_geometry_textentity.htm      if(content = null amp;&amp content = string      amp;&amp face = null amp;&amp face = string             if(size = = 0          size = 5        rhino docobjects font fontstyle fontstyle = rhino docobjects font fontstyle upright        italic fontstyle = rhino docobjects font fontstyle italic        rhino docobjects font fontweight fontweight = rhino docobjects font fontweight normal        bold fontweight = rhino docobjects font fontweight bold         bool underline = false        bool strikethrough = false         rhino docobjects font font = new rhino docobjects font(face fontweight fontstyle underlined strikethrough        textentity text_entity = new textentity                     plane = plane worldxy            plaintext = content            justification = textjustification middlecenter            font = font                   rhino docobjects dimensionstyle dimstyle = new rhino docobjects dimensionstyle        dimstyle textheight = size        double smallcapsscale = 1        double space = 0        = text_entity createsurfaces(dimstyle smallcapsscale spacing                         print(\\\"some content require                          grasshopper3d.com              text font c   code guilio piacentino component   textentity text = new textentity textjustification textj = new textjustification text fontindex =                          \",\"     siemen   easy turn grasshopper preview temporary    hi @sieman sure guess require gh document   use turn preview my_doc expiresolution my_doc expirepreview(true   turn my_doc newsolution(true   c.\",\"thank solve   import rhinoscriptsyntax rs import scriptcontext sc    def blockaecide      block_obj_inst_id = rs getobject(\\\"select block rs.filter.instance      rs explodeblockinstance(block_obj_inst_id explode_nested_instances = true           blocks_leftover = block_obj block_obj r allobjects block_obj rs.filter.instance      blocks_table = sc.doc instancedefinition      print len(blocks_leftovers      print len(blocks_table      len(blocks_leftover = = 0 len(blocks_table = 0          sc.doc instancedefinition clear    name__==\\\"__main      blockaecide  \",\"thank reply @dsw solve problem   cmfcpropertygridctrl::onpropertychange method instead validateitemdata understand validateitemdata call time rhino environment\",\"need calibrate printer usually advanced property well printer use calibration tool rhino printer details section print setup window scale x y separately\",\"think look brep issurface property import rhinoscriptsyntax rs s = rs getobject(\\\"select panel\\\",rs.filter.surface+rs.filter.polysurface s = rs.coercegeometry(s).tobrep s. issurface      print surface      print surface   p.s. need add .tobrep work extrusion\",\"guy bounce https:\\u002f\\u002fdeveloper.rhino3d.com\\u002fapi\\u002frhinocommon\\u002fhtml\\u002fm_rhino_geometry_intersect_intersection_rayshoot.htm\",\"hi @jeremy5 sometthe like import rhino import rhinoscriptsyntax rs   class getmyobjects(rhino input custom getobject           def init__(self object_ids          self.object_id = object_id               getobject customgeometryfilter override      def customgeometryfilter(self rh_object geometry component_index          rh_object rh_object id self.object_id              return true          return false        def test           object_id = rs getobjects(\\\"select object      object_ids return           = getmyobjects(object_ids      setcommandprompt(\\\"select specific object      enablepreselect = false      getmultiple(1 0      commandresult = rhino command result success          return               range(0 objectcount          rh_obj = object(i).object          rh_obj print rh_obj id   test   dale\",\"hi @mrhe author tarsier source code attempt similar goal work suggestion help improve performance   output list gh_point instead point3d linq da.setdatalist(0 pointcloud select(x = gt new gh_point(x general rule massively increase performance output object save grasshopper have cast create grasshopper natively implement rhino pointcloud class create tarsier avoid exactly creation hundred thousand point frame proper grasshopper fashion preview rhino point cloud custom preview(thickness bake set deconstruct reconstruct dynamic casting rhinocommon point cloud class implementation interoperable code    memory consideration load frame 10 20ms mediocre pc case expect enormous performance gain single line linq mention 1 2 primarily aim address draw time rhino point cloud render significantly fast 100,000 individual point grasshopper run rhino main thread affect update speed simple benchmark technique 1 100,000 randomly generate point   image.png1401\\u00d7603 59.2 kb   awesome go 565 ms 12 ms 4700 fast unfortunately draw 100,000 individual point component enable pretty poor display performance time regen viewport 100 time = 5.41 second 18.50 fps address 2 let output point cloud write display function advantage include kinect color directly point cloud manage different list construct output point cloud result similar slightly well array method case write renderer separate component easily able embed receiver   image.png1316\\u00d7544 33.6 kb   renderer computing runscript computation time test viewport speed testmaxspeed time regen viewport 100 time = 0.83 second 120.77 fps 600 render performance attach example demonstrate pointcloud_performance.gh 8.2 kb cheers cam\",\"hi try import rhinoscriptsyntax rs   def placecircles(curve distance      length = rs curvelength(curve      domain = rs curvedomain(curve           parameter =   domain[0]+distance length*(domain[1]-domain[0      parameter2 = domain[1]-distance length*(domain[1]-domain[0           curvepoint = rs evaluatecurve(curve parameter      curvepoint2 = rs evaluatecurve(curve parameter2           circle = rs addcircle(curvepoint 3      circle2 = rs addcircle(curvepoint2 3           circles.append((circle circle2   def circledist      objs = rs getobjects(\\\"select object 0 false true           objs return      distance = rs getreal(\\\"distance edge      distance return           obj objs          crvs = rs explodecurves(obj                   crv crvs              placecircles(crv distance   circle = circledist print circle\",\"hi @pagarcia sample draw sphere surface revoluation like rhino default shaded display mode draw output sphere command cmdsampledrawbrep.cpp dale\",\"need use rs.coercegeometry return geometry use rs.coercerhinoobject return rhino object https:\\u002f\\u002fdeveloper.rhino3d.com\\u002fapi\\u002frhinocommon\\u002fhtml\\u002ft_rhino_docobjects_rhinoobject.htm object property geometry https:\\u002f\\u002fdeveloper.rhino3d.com\\u002fapi\\u002frhinocommon\\u002fhtml\\u002fp_rhino_docobjects_rhinoobject_geometry.htm straight rhinocommon approach like x string input layername = obj geometry obj rhino rhinodoc activedoc objects findbylayer(x\",\"use rs.filter.instance\",\"     ivelin.peychev   select surface polysurface    import rhino import rhinoscriptsyntax rs import scriptcontext sc import time   tol = sc.doc modelabsolutetolerance   objs_id = rs getobjects(\\\"select object rs.filter.surface+rs.filter.polysurface objs = rs.coercebrep(id id objs_id cutter_id = rs getobject(\\\"select split plane rs.filter.surface cutter = rs.coerceboundingbox(cutter_id wrong cutter = rs.coercebrep(cutter_id   ts = time.time split_part_ids= obj enumerate(objs      brep = obj split(cutter tol      brep virtual geometry need add document scriptcontext      brep          brep breps split_part_ids.append(sc.doc objects addbrep(brep          happen delete original object file          rs deleteobject(objs_ids[i te = time.time   print elapse time .2f}\\\".format(te ts\",\"                  github              mcneel rhino developer sample   rhino grasshopper developer sample code contribute mcneel rhino developer sample development create account github                            gives            github.com            mcneel rhino developer sample blob\\u002f53f7108408fd4905e48bda566d15bd87458c7369 rhinocommon snippet from_rhinocommon py ex_objectdisplaymode.py#l31           setcommandprompt(\\\"select display mode          str_mode =          m mode              s = m.englishname.replace .replace(\\\"-              str_modes.append(s          addoptionlist(\\\"displaymode str_modes 0          get()==rhino input getresult option              mode = modes[go option().currentlistoptionindex      mode return rhino command result cancel      attr setdisplaymodeoverride(mode viewportid scriptcontext.doc objects modifyattributes(objref attr false scriptcontext.doc view redraw      name__==\\\"__main objectdisplaymode                                 ivelin.peychev   self objecttable come    mean instance method instance example case instance objecttable scriptcontext.doc object self parameter convention python world instance class\",\"hi @oktkhr0916 use crhinoobjectiterator sample https:\\u002f\\u002fgithub.com\\u002fmcneel\\u002frhino-developer-samples\\u002fblob\\u002f6\\u002fcpp\\u002fsamplecommands\\u002fcmdsampleselectbyname.cpp developer sample repo github example dale\",\"kangaroo2 order magnitude fast kangaroo1 sort thing short script thing definition share gh script component operation rhino plugin.poly500_scripted.gh 14.4 kb\",\"share script change input method getline feedback group output use risk    noecho -runscript distbetween sub distbetween    dim arrpt0 arrpt1 dbltolerance dbldistance strline arrmidpt   strdot strgroup strlinearr   create line arrowhead strlinearr = rhino getline               isnull(strlinearr exit sub              isnull(strlinearr(0 exit sub              isnull strlinearr(1 exit sub              strline = rhino addline strlinearr(0 strlinearr(1              isnull(strline exit sub                                        exit distance small add line dbldistance = rhino distance(strlinearr(0 strlinearr(1 dbltolerance = rhino unitabsolutetolerance dbldistance lt dbltolerance exit sub              rhino curvearrows(strline 3   add annotation dot line mid point arrmidpt = rhino pointdivide(rhino pointadd(strlinearr(0 strlinearr(1 2.0              strdot = rhino addtextdot(round(dbldistance 3 arrmidpt              rhino objectcolor(strdot vbwhite                strgroup = rhino addgroup              rhino addobjecttogroup strdot strgroup             rhino addobjecttogroup strline strgroup              end sub\",\"thank @helvetosaur thank @rajaa thread help start                   make2d rhinocommon script            know make2d grasshopper wip functionality expose directly rhinocommon find   thank   --mitch                        exploding rhinocommon hiddenlinedrawing segment scripting            compute hiddenlinedrawing collection segment store .segment       hdp = rhino geometry hiddenlinedrawingparameter      hdp absolutetolerance = sc.doc modelabsolutetolerance      hdp addgeometry(sc.doc object find(objid).geometry objid objids      hdp setviewport(vp      hdp flatten = true      hld = rhino geometry hiddenlinedrawe compute(hdp true           enumerate collection segment      seg enumerate(hld segment            \",\"look https:\\u002f\\u002fdeveloper.rhino3d.com\\u002fapi\\u002frhinocommon\\u002fhtml\\u002fm_rhino_geometry_plane_remaptoplanespace.htm   image.png1202\\u00d7768 75.4 kb   import rhino import scriptcontext sc    def pointcoordinates           gp = rhino input custom getpoint      gp setcommandprompt(\\\"select point      cplane = sc.doc view activeview activeviewport constructionplane           true                   gp clearcommandoption                   get_rc = gp                   gp commandresult()!=rhino command result success              return gp commandresult                   get_rc==rhino input getresult point              point = gp point              print pick point world coordinate + str(point              bsuccess pointpulle = cplane remaptoplanespace(point              print pick point plane coordinate + str(pointpulled          get_rc = = rhino input getresult cancel              break      return rhino command result success   = = main      pointcoordinates\",\"     0904   removesegment delete line    sure exactly get want remove linetype completely import rhino remove linetype linetypeindex = rhino rhinodoc activedoc linetype find(\\\"dashe true linetype = rhino rhinodoc activedoc linetypes[linetypeindex rhino rhinodoc activedoc linetype delete(linetype   remove linetype.py 230 bytes\",\"hi @ivelin.peychev      ivelin.peychev   well example(s    decent sample developer sample repository github      ivelin.peychev   screenshot result window show custom applicationname mainicon    screen sample mention   image.png958\\u00d7797 173 kb       ivelin.peychev   icon embed encode    embed      ivelin.peychev   size    https:\\u002f\\u002fdocs.microsoft.com\\u002fen-us\\u002fwindows\\u002fdesktop\\u002fuxguide\\u002fvis-icon      ivelin.peychev   nosplash overridden    sorry know mean      ivelin.peychev   color change method api    change rhino application color rhinocommon      ivelin.peychev   screenshot registry key scheme myskin sub key unclear     image.png1256\\u00d7202 11.5 kb       ivelin.peychev   skin load edit shortcut    know      ivelin.peychev   python example nice    skin dll need c++ c build hope help dale\",\"hi mattytraxx welcome rhino forum      mattytraxx   expect find setting document properties -&gt grid -&gt grid property see    find setting rhino options gt view gt displaymodes gt grid   showgridontopbug.png807\\u00d7677 15.4 kb   work like expect maybe bug @pascal\",\"wire display setting mistake begin hiding complexity stand reduce complexity metahopper probably tool tool programmatically change gh\",\"think   get object name list remove duplicate use list object join   know get idea manage\",\"use textdot secondarytext property like import rhinoscriptsyntax rs textdot = rs getobject(\\\"select textdot rs.filter.textdot textdot = rs.coercegeometry(textdot print textdot secondarytext   rickson.py 158 bytes\",\"look like popup menu possibly customize set mouse button rhinoceros gt preference customizing set command set copy default rhinoceros gt command open customize panel rhinoceros gt commands gt customize click popup palette drag drop icon repository leave panel max\",\"https:\\u002f\\u002fdeveloper.rhino3d.com\\u002f5\\u002fapi\\u002frhinocommonwin\\u002fhtml\\u002fm_rhino_geometry_geometrybase_transform.htm brep pass https:\\u002f\\u002fdeveloper.rhino3d.com\\u002f5\\u002fapi\\u002frhinocommonwin\\u002fhtml\\u002fm_rhino_geometry_transform_scale_1.htm https:\\u002f\\u002fdeveloper.rhino3d.com\\u002f5\\u002fapi\\u002frhinocommonwin\\u002fhtml\\u002fm_rhino_geometry_transform_scale.htm\",\"solve isolate list   import rhinoscriptsyntax rs import rhino geometry rg import scriptcontext sc    surface = rs getobjects(\\\"sel all\\\",rs.filter.surface name = srf_id surface      srf = rs.coercerhinoobject(srf_id           names.append(srf attribute normalized_name = list(dict.fromkeys(names set_names = list(set(names    print normalized_names print len(normalized_names print set_names print len(set_name range(len(surfaces      nm normalized_name          ps =          srf_id surface                           srf = rs.coercerhinoobject(srf_id              try                  tmp = srf attribute                  tmp = = nm                      ps.append(srf_ids                               pass          print ps          len(ps gt 1              ps_id = rs joinsurfaces(ps true              ps_obj = rs.coercerhinoobject(ps_id              rs objectname(ps_id nm\",\"rs blockcontainers(block_name https:\\u002f\\u002fdeveloper.rhino3d.com\\u002fapi\\u002frhinoscriptsyntax\\u002f#block-blockcontainer return block level parent\",\"need proper volume centroid use areamasspropertie rhino geometry areamasspropertie compute(x).centroid   centroid exactly point near center use fast x. getboundingbox(false).pointat(0.5,0.5,0.5   x brep\",\"pdf dialog suppress macro believe dialog box technically different program interact rhino option work print pdf rhinocommon option limited print wireframe view sharp edge https:\\u002f\\u002fdeveloper.rhino3d.com\\u002fapi\\u002frhinocommon\\u002fhtml\\u002fmethods_t_rhino_fileio_filepdf.htm expose sasquatch plugin grasshopper extra option embed raster view grasshopper disclaimer actually component workflow know kind issue come look way hack rounded edge pdf library use success                   food4rhino 15 feb 19              sasquatch utilities   collection geometry edit tool general utility grasshopper develop shop architects                            second use external pdf library draw file like itextsharp .net development work conversion 3d nurb 2d bezi curve pdf writer use effort write c write code hijack print pdf dialog run macro enter file hit print require dialog hijacking code run thread parallel code run macro watch print dialog pop little bit complicated write dialog hijacking stable solution resort code moment find share\",\"ideal solution end rewrite original addblock method single guid add new module eg mycustommodule rhino app content folder run atom import rhinoscriptsyntax rs objs = rs objectsbytype(16 false obj objs      point = 0 0 0      block = rs addblockforsingleobject(obj point true   rewrite function      r insertblock(block point   new module function def addblockforsingleobject(id base_point = delete_input = false      base_point = rhutil.coerce3dpoint(base_point true               = scriptcontext.doc instancedefinition getunusedinstancedefinitionname      find = scriptcontext.doc instancedefinition find(name true      object =       obj = rhutil.coercerhinoobject(id true      obj isreference return      ot = obj objecttype      ot==rhino docobjects objecttype light return      ot==rhino docobjects objecttype grip return      ot==rhino docobjects objecttype phantom return      ot==rhino docobjects objecttype instancereference find          use nesting = obj usesdefinition(found index          use return      objects.append(obj       object          geometry = obj geometry obj object          attrs = obj attribute obj object          rc = 0          find            rc = scriptcontext.doc instancedefinition modifygeometry(found index geometry attrs                     rc = scriptcontext.doc instancedefinition add(name base_point geometry attrs          rc&gt;=0              delete_input                  obj object scriptcontext.doc objects delete(obj true              scriptcontext.doc view redraw      return\",\"     helvetosaur   native rhino possible detection removal tool script lie look    thank @helvetosaur\",\"ask nicely    objs=[obj obj rs objectsbyname(\\\"name rs isobjectselectable(obj   seriously lot rs method look entire file object match criterion   example allobjects get matter lock hide etc   method state argument add like objectsbytype     need watch actually alter locked hidden object realize\",\"hi @ivelin.peychev sorry able rhino inside work rhino 6 dale\",null],\"marker\":{\"opacity\":0.5,\"size\":5},\"mode\":\"markers+text\",\"name\":\"1_rhino_rs_object\",\"text\":[\"\",\"\",\"\",\"\",\"\",\"\",\"\",\"\",\"\",\"\",\"\",\"\",\"\",\"\",\"\",\"\",\"\",\"\",\"\",\"\",\"\",\"\",\"\",\"\",\"\",\"\",\"\",\"\",\"\",\"\",\"\",\"\",\"\",\"\",\"\",\"\",\"\",\"\",\"\",\"\",\"1_rhino_rs_object\"],\"textfont\":{\"size\":12},\"x\":[5.583662986755371,6.4969916343688965,6.896938323974609,6.446744441986084,7.104423522949219,6.562920570373535,6.578962802886963,6.426601409912109,5.843645095825195,6.8690032958984375,6.049685955047607,6.402446746826172,6.956356525421143,6.05989933013916,5.935998916625977,6.445079803466797,6.591111183166504,6.792776107788086,6.732788562774658,6.220461368560791,7.076154708862305,7.034597396850586,6.84979248046875,6.351670265197754,6.8229241371154785,6.7802910804748535,6.463681697845459,6.0273332595825195,6.846121311187744,6.993618965148926,6.532042503356934,6.007693290710449,6.774415016174316,6.457781791687012,6.204366683959961,6.797519683837891,6.493180751800537,6.526270866394043,6.746663570404053,6.853290557861328,6.540898323059082],\"y\":[6.376748561859131,3.960853099822998,2.900062322616577,2.306105136871338,3.411479949951172,5.635360240936279,2.345644235610962,4.98069953918457,4.185007572174072,2.8569576740264893,3.5129616260528564,2.9088659286499023,4.667582988739014,3.2798912525177,4.012562274932861,3.0117347240448,2.1806130409240723,2.788433313369751,4.547341346740723,2.8121259212493896,4.650145053863525,3.8362202644348145,4.7222208976745605,3.4094831943511963,3.3747198581695557,4.174419403076172,4.78259801864624,4.560758113861084,2.4076991081237793,2.977431297302246,4.604850769042969,3.6910369396209717,2.8261592388153076,2.4608118534088135,3.604588031768799,4.856864929199219,2.5595479011535645,3.3516392707824707,2.3355178833007812,3.481440305709839,3.6337294578552246],\"type\":\"scattergl\"}],                        {\"template\":{\"data\":{\"barpolar\":[{\"marker\":{\"line\":{\"color\":\"white\",\"width\":0.5},\"pattern\":{\"fillmode\":\"overlay\",\"size\":10,\"solidity\":0.2}},\"type\":\"barpolar\"}],\"bar\":[{\"error_x\":{\"color\":\"rgb(36,36,36)\"},\"error_y\":{\"color\":\"rgb(36,36,36)\"},\"marker\":{\"line\":{\"color\":\"white\",\"width\":0.5},\"pattern\":{\"fillmode\":\"overlay\",\"size\":10,\"solidity\":0.2}},\"type\":\"bar\"}],\"carpet\":[{\"aaxis\":{\"endlinecolor\":\"rgb(36,36,36)\",\"gridcolor\":\"white\",\"linecolor\":\"white\",\"minorgridcolor\":\"white\",\"startlinecolor\":\"rgb(36,36,36)\"},\"baxis\":{\"endlinecolor\":\"rgb(36,36,36)\",\"gridcolor\":\"white\",\"linecolor\":\"white\",\"minorgridcolor\":\"white\",\"startlinecolor\":\"rgb(36,36,36)\"},\"type\":\"carpet\"}],\"choropleth\":[{\"colorbar\":{\"outlinewidth\":1,\"tickcolor\":\"rgb(36,36,36)\",\"ticks\":\"outside\"},\"type\":\"choropleth\"}],\"contourcarpet\":[{\"colorbar\":{\"outlinewidth\":1,\"tickcolor\":\"rgb(36,36,36)\",\"ticks\":\"outside\"},\"type\":\"contourcarpet\"}],\"contour\":[{\"colorbar\":{\"outlinewidth\":1,\"tickcolor\":\"rgb(36,36,36)\",\"ticks\":\"outside\"},\"colorscale\":[[0.0,\"#440154\"],[0.1111111111111111,\"#482878\"],[0.2222222222222222,\"#3e4989\"],[0.3333333333333333,\"#31688e\"],[0.4444444444444444,\"#26828e\"],[0.5555555555555556,\"#1f9e89\"],[0.6666666666666666,\"#35b779\"],[0.7777777777777778,\"#6ece58\"],[0.8888888888888888,\"#b5de2b\"],[1.0,\"#fde725\"]],\"type\":\"contour\"}],\"heatmapgl\":[{\"colorbar\":{\"outlinewidth\":1,\"tickcolor\":\"rgb(36,36,36)\",\"ticks\":\"outside\"},\"colorscale\":[[0.0,\"#440154\"],[0.1111111111111111,\"#482878\"],[0.2222222222222222,\"#3e4989\"],[0.3333333333333333,\"#31688e\"],[0.4444444444444444,\"#26828e\"],[0.5555555555555556,\"#1f9e89\"],[0.6666666666666666,\"#35b779\"],[0.7777777777777778,\"#6ece58\"],[0.8888888888888888,\"#b5de2b\"],[1.0,\"#fde725\"]],\"type\":\"heatmapgl\"}],\"heatmap\":[{\"colorbar\":{\"outlinewidth\":1,\"tickcolor\":\"rgb(36,36,36)\",\"ticks\":\"outside\"},\"colorscale\":[[0.0,\"#440154\"],[0.1111111111111111,\"#482878\"],[0.2222222222222222,\"#3e4989\"],[0.3333333333333333,\"#31688e\"],[0.4444444444444444,\"#26828e\"],[0.5555555555555556,\"#1f9e89\"],[0.6666666666666666,\"#35b779\"],[0.7777777777777778,\"#6ece58\"],[0.8888888888888888,\"#b5de2b\"],[1.0,\"#fde725\"]],\"type\":\"heatmap\"}],\"histogram2dcontour\":[{\"colorbar\":{\"outlinewidth\":1,\"tickcolor\":\"rgb(36,36,36)\",\"ticks\":\"outside\"},\"colorscale\":[[0.0,\"#440154\"],[0.1111111111111111,\"#482878\"],[0.2222222222222222,\"#3e4989\"],[0.3333333333333333,\"#31688e\"],[0.4444444444444444,\"#26828e\"],[0.5555555555555556,\"#1f9e89\"],[0.6666666666666666,\"#35b779\"],[0.7777777777777778,\"#6ece58\"],[0.8888888888888888,\"#b5de2b\"],[1.0,\"#fde725\"]],\"type\":\"histogram2dcontour\"}],\"histogram2d\":[{\"colorbar\":{\"outlinewidth\":1,\"tickcolor\":\"rgb(36,36,36)\",\"ticks\":\"outside\"},\"colorscale\":[[0.0,\"#440154\"],[0.1111111111111111,\"#482878\"],[0.2222222222222222,\"#3e4989\"],[0.3333333333333333,\"#31688e\"],[0.4444444444444444,\"#26828e\"],[0.5555555555555556,\"#1f9e89\"],[0.6666666666666666,\"#35b779\"],[0.7777777777777778,\"#6ece58\"],[0.8888888888888888,\"#b5de2b\"],[1.0,\"#fde725\"]],\"type\":\"histogram2d\"}],\"histogram\":[{\"marker\":{\"line\":{\"color\":\"white\",\"width\":0.6}},\"type\":\"histogram\"}],\"mesh3d\":[{\"colorbar\":{\"outlinewidth\":1,\"tickcolor\":\"rgb(36,36,36)\",\"ticks\":\"outside\"},\"type\":\"mesh3d\"}],\"parcoords\":[{\"line\":{\"colorbar\":{\"outlinewidth\":1,\"tickcolor\":\"rgb(36,36,36)\",\"ticks\":\"outside\"}},\"type\":\"parcoords\"}],\"pie\":[{\"automargin\":true,\"type\":\"pie\"}],\"scatter3d\":[{\"line\":{\"colorbar\":{\"outlinewidth\":1,\"tickcolor\":\"rgb(36,36,36)\",\"ticks\":\"outside\"}},\"marker\":{\"colorbar\":{\"outlinewidth\":1,\"tickcolor\":\"rgb(36,36,36)\",\"ticks\":\"outside\"}},\"type\":\"scatter3d\"}],\"scattercarpet\":[{\"marker\":{\"colorbar\":{\"outlinewidth\":1,\"tickcolor\":\"rgb(36,36,36)\",\"ticks\":\"outside\"}},\"type\":\"scattercarpet\"}],\"scattergeo\":[{\"marker\":{\"colorbar\":{\"outlinewidth\":1,\"tickcolor\":\"rgb(36,36,36)\",\"ticks\":\"outside\"}},\"type\":\"scattergeo\"}],\"scattergl\":[{\"marker\":{\"colorbar\":{\"outlinewidth\":1,\"tickcolor\":\"rgb(36,36,36)\",\"ticks\":\"outside\"}},\"type\":\"scattergl\"}],\"scattermapbox\":[{\"marker\":{\"colorbar\":{\"outlinewidth\":1,\"tickcolor\":\"rgb(36,36,36)\",\"ticks\":\"outside\"}},\"type\":\"scattermapbox\"}],\"scatterpolargl\":[{\"marker\":{\"colorbar\":{\"outlinewidth\":1,\"tickcolor\":\"rgb(36,36,36)\",\"ticks\":\"outside\"}},\"type\":\"scatterpolargl\"}],\"scatterpolar\":[{\"marker\":{\"colorbar\":{\"outlinewidth\":1,\"tickcolor\":\"rgb(36,36,36)\",\"ticks\":\"outside\"}},\"type\":\"scatterpolar\"}],\"scatter\":[{\"fillpattern\":{\"fillmode\":\"overlay\",\"size\":10,\"solidity\":0.2},\"type\":\"scatter\"}],\"scatterternary\":[{\"marker\":{\"colorbar\":{\"outlinewidth\":1,\"tickcolor\":\"rgb(36,36,36)\",\"ticks\":\"outside\"}},\"type\":\"scatterternary\"}],\"surface\":[{\"colorbar\":{\"outlinewidth\":1,\"tickcolor\":\"rgb(36,36,36)\",\"ticks\":\"outside\"},\"colorscale\":[[0.0,\"#440154\"],[0.1111111111111111,\"#482878\"],[0.2222222222222222,\"#3e4989\"],[0.3333333333333333,\"#31688e\"],[0.4444444444444444,\"#26828e\"],[0.5555555555555556,\"#1f9e89\"],[0.6666666666666666,\"#35b779\"],[0.7777777777777778,\"#6ece58\"],[0.8888888888888888,\"#b5de2b\"],[1.0,\"#fde725\"]],\"type\":\"surface\"}],\"table\":[{\"cells\":{\"fill\":{\"color\":\"rgb(237,237,237)\"},\"line\":{\"color\":\"white\"}},\"header\":{\"fill\":{\"color\":\"rgb(217,217,217)\"},\"line\":{\"color\":\"white\"}},\"type\":\"table\"}]},\"layout\":{\"annotationdefaults\":{\"arrowhead\":0,\"arrowwidth\":1},\"autotypenumbers\":\"strict\",\"coloraxis\":{\"colorbar\":{\"outlinewidth\":1,\"tickcolor\":\"rgb(36,36,36)\",\"ticks\":\"outside\"}},\"colorscale\":{\"diverging\":[[0.0,\"rgb(103,0,31)\"],[0.1,\"rgb(178,24,43)\"],[0.2,\"rgb(214,96,77)\"],[0.3,\"rgb(244,165,130)\"],[0.4,\"rgb(253,219,199)\"],[0.5,\"rgb(247,247,247)\"],[0.6,\"rgb(209,229,240)\"],[0.7,\"rgb(146,197,222)\"],[0.8,\"rgb(67,147,195)\"],[0.9,\"rgb(33,102,172)\"],[1.0,\"rgb(5,48,97)\"]],\"sequential\":[[0.0,\"#440154\"],[0.1111111111111111,\"#482878\"],[0.2222222222222222,\"#3e4989\"],[0.3333333333333333,\"#31688e\"],[0.4444444444444444,\"#26828e\"],[0.5555555555555556,\"#1f9e89\"],[0.6666666666666666,\"#35b779\"],[0.7777777777777778,\"#6ece58\"],[0.8888888888888888,\"#b5de2b\"],[1.0,\"#fde725\"]],\"sequentialminus\":[[0.0,\"#440154\"],[0.1111111111111111,\"#482878\"],[0.2222222222222222,\"#3e4989\"],[0.3333333333333333,\"#31688e\"],[0.4444444444444444,\"#26828e\"],[0.5555555555555556,\"#1f9e89\"],[0.6666666666666666,\"#35b779\"],[0.7777777777777778,\"#6ece58\"],[0.8888888888888888,\"#b5de2b\"],[1.0,\"#fde725\"]]},\"colorway\":[\"#1F77B4\",\"#FF7F0E\",\"#2CA02C\",\"#D62728\",\"#9467BD\",\"#8C564B\",\"#E377C2\",\"#7F7F7F\",\"#BCBD22\",\"#17BECF\"],\"font\":{\"color\":\"rgb(36,36,36)\"},\"geo\":{\"bgcolor\":\"white\",\"lakecolor\":\"white\",\"landcolor\":\"white\",\"showlakes\":true,\"showland\":true,\"subunitcolor\":\"white\"},\"hoverlabel\":{\"align\":\"left\"},\"hovermode\":\"closest\",\"mapbox\":{\"style\":\"light\"},\"paper_bgcolor\":\"white\",\"plot_bgcolor\":\"white\",\"polar\":{\"angularaxis\":{\"gridcolor\":\"rgb(232,232,232)\",\"linecolor\":\"rgb(36,36,36)\",\"showgrid\":false,\"showline\":true,\"ticks\":\"outside\"},\"bgcolor\":\"white\",\"radialaxis\":{\"gridcolor\":\"rgb(232,232,232)\",\"linecolor\":\"rgb(36,36,36)\",\"showgrid\":false,\"showline\":true,\"ticks\":\"outside\"}},\"scene\":{\"xaxis\":{\"backgroundcolor\":\"white\",\"gridcolor\":\"rgb(232,232,232)\",\"gridwidth\":2,\"linecolor\":\"rgb(36,36,36)\",\"showbackground\":true,\"showgrid\":false,\"showline\":true,\"ticks\":\"outside\",\"zeroline\":false,\"zerolinecolor\":\"rgb(36,36,36)\"},\"yaxis\":{\"backgroundcolor\":\"white\",\"gridcolor\":\"rgb(232,232,232)\",\"gridwidth\":2,\"linecolor\":\"rgb(36,36,36)\",\"showbackground\":true,\"showgrid\":false,\"showline\":true,\"ticks\":\"outside\",\"zeroline\":false,\"zerolinecolor\":\"rgb(36,36,36)\"},\"zaxis\":{\"backgroundcolor\":\"white\",\"gridcolor\":\"rgb(232,232,232)\",\"gridwidth\":2,\"linecolor\":\"rgb(36,36,36)\",\"showbackground\":true,\"showgrid\":false,\"showline\":true,\"ticks\":\"outside\",\"zeroline\":false,\"zerolinecolor\":\"rgb(36,36,36)\"}},\"shapedefaults\":{\"fillcolor\":\"black\",\"line\":{\"width\":0},\"opacity\":0.3},\"ternary\":{\"aaxis\":{\"gridcolor\":\"rgb(232,232,232)\",\"linecolor\":\"rgb(36,36,36)\",\"showgrid\":false,\"showline\":true,\"ticks\":\"outside\"},\"baxis\":{\"gridcolor\":\"rgb(232,232,232)\",\"linecolor\":\"rgb(36,36,36)\",\"showgrid\":false,\"showline\":true,\"ticks\":\"outside\"},\"bgcolor\":\"white\",\"caxis\":{\"gridcolor\":\"rgb(232,232,232)\",\"linecolor\":\"rgb(36,36,36)\",\"showgrid\":false,\"showline\":true,\"ticks\":\"outside\"}},\"title\":{\"x\":0.05},\"xaxis\":{\"automargin\":true,\"gridcolor\":\"rgb(232,232,232)\",\"linecolor\":\"rgb(36,36,36)\",\"showgrid\":false,\"showline\":true,\"ticks\":\"outside\",\"title\":{\"standoff\":15},\"zeroline\":false,\"zerolinecolor\":\"rgb(36,36,36)\"},\"yaxis\":{\"automargin\":true,\"gridcolor\":\"rgb(232,232,232)\",\"linecolor\":\"rgb(36,36,36)\",\"showgrid\":false,\"showline\":true,\"ticks\":\"outside\",\"title\":{\"standoff\":15},\"zeroline\":false,\"zerolinecolor\":\"rgb(36,36,36)\"}}},\"shapes\":[{\"line\":{\"color\":\"#CFD8DC\",\"width\":2},\"type\":\"line\",\"x0\":5.34197952747345,\"x1\":5.34197952747345,\"y0\":1.8535210847854615,\"y1\":7.609841847419739},{\"line\":{\"color\":\"#9E9E9E\",\"width\":2},\"type\":\"line\",\"x0\":2.383902907371521,\"x1\":8.30005614757538,\"y0\":4.7316814661026,\"y1\":4.7316814661026}],\"annotations\":[{\"showarrow\":false,\"text\":\"D1\",\"x\":2.383902907371521,\"y\":4.7316814661026,\"yshift\":10},{\"showarrow\":false,\"text\":\"D2\",\"x\":5.34197952747345,\"xshift\":10,\"y\":7.609841847419739}],\"title\":{\"font\":{\"size\":22,\"color\":\"Black\"},\"text\":\"\\u003cb\\u003eDocuments and Topics\\u003c\\u002fb\\u003e\",\"x\":0.5,\"xanchor\":\"center\",\"yanchor\":\"top\"},\"width\":1800,\"height\":1200,\"xaxis\":{\"visible\":false},\"yaxis\":{\"visible\":false}},                        {\"responsive\": true}                    ).then(function(){\n",
              "                            \n",
              "var gd = document.getElementById('9398a245-6eae-42b3-a17d-8a092395da60');\n",
              "var x = new MutationObserver(function (mutations, observer) {{\n",
              "        var display = window.getComputedStyle(gd).display;\n",
              "        if (!display || display === 'none') {{\n",
              "            console.log([gd, 'removed!']);\n",
              "            Plotly.purge(gd);\n",
              "            observer.disconnect();\n",
              "        }}\n",
              "}});\n",
              "\n",
              "// Listen for the removal of the full notebook cells\n",
              "var notebookContainer = gd.closest('#notebook-container');\n",
              "if (notebookContainer) {{\n",
              "    x.observe(notebookContainer, {childList: true});\n",
              "}}\n",
              "\n",
              "// Listen for the clearing of the current output cell\n",
              "var outputEl = gd.closest('.output');\n",
              "if (outputEl) {{\n",
              "    x.observe(outputEl, {childList: true});\n",
              "}}\n",
              "\n",
              "                        })                };                            </script>        </div>\n",
              "</body>\n",
              "</html>"
            ]
          },
          "metadata": {}
        }
      ]
    }
  ]
}